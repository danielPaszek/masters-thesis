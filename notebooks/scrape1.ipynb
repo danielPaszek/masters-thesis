{
 "cells": [
  {
   "cell_type": "code",
   "execution_count": 2,
   "id": "initial_id",
   "metadata": {
    "collapsed": true,
    "jupyter": {
     "outputs_hidden": true
    },
    "ExecuteTime": {
     "end_time": "2024-07-12T16:05:15.672231Z",
     "start_time": "2024-07-12T16:05:13.224476Z"
    }
   },
   "outputs": [],
   "source": [
    "from selenium import webdriver\n",
    "from selenium.webdriver.common.by import By\n",
    "from time import sleep\n",
    "import pandas as pd\n",
    "import json\n",
    "import numpy as np\n",
    "import io\n",
    "from Web.browse_edgar import *\n",
    "import datetime"
   ]
  },
  {
   "cell_type": "markdown",
   "id": "6e877a097293dfc0",
   "metadata": {
    "collapsed": false
   },
   "source": [
    "https://www.sec.gov/ixviewer/ix.html?doc= (/Archives/edgar/data/320193/000162828017000717/a10-qq1201712312016.htm) is prefix for xlbr viewer :)\n"
   ]
  },
  {
   "cell_type": "markdown",
   "id": "e1512c83eaa7fec2",
   "metadata": {
    "collapsed": false
   },
   "source": [
    "# Trying sec website. not actual filings\n",
    "\n",
    "https://www.macrotrends.net/stocks/charts/META/meta-platforms/financial-statements\n",
    "go to all financial statements\n",
    "interactive data :)\n",
    "\n",
    "10-q - to co szukamy kwartalne\n",
    "10-k - to co szukamy roczne"
   ]
  },
  {
   "cell_type": "code",
   "execution_count": 3,
   "id": "ad01a6d6058fe8a5",
   "metadata": {
    "collapsed": false,
    "ExecuteTime": {
     "end_time": "2024-07-12T16:05:15.688007Z",
     "start_time": "2024-07-12T16:05:15.676440Z"
    }
   },
   "outputs": [],
   "source": [
    "def scrape_income_statement(driver):\n",
    "    # TODO: https://stackoverflow.com/questions/8474031/case-insensitive-xpath-contains-possible\n",
    "    table = open_income_statement(driver)\n",
    "    lines = []\n",
    "    for tr in table.find_elements(By.XPATH, \"./tr\"):\n",
    "        line = []\n",
    "        for th in tr.find_elements(By.XPATH, \"./th\") or []:\n",
    "            text = th.text.strip()\n",
    "            if text:\n",
    "                line.append(th.text)\n",
    "        for td in tr.find_elements(By.XPATH, \"./td\") or []:\n",
    "            text = td.text.strip()\n",
    "            if text:\n",
    "                line.append(td.text)\n",
    "        lines.append(line)\n",
    "        \n",
    "    title = lines.pop(0)\n",
    "    try:\n",
    "        date = pd.to_datetime(lines[0][0], format='%b. %d, %Y')\n",
    "        dates = lines.pop(0)\n",
    "    except:\n",
    "        dates = title[1:]\n",
    "        print('No date in second line')\n",
    "    \n",
    "    try:\n",
    "        lines = list(filter(lambda x: len(x) > 1, lines))\n",
    "        \n",
    "        lines = np.array(lines)\n",
    "        lines = np.char.replace(lines, '$', '')\n",
    "        np.char.strip(lines)\n",
    "        df = pd.DataFrame(lines, columns=['name', *dates])\n",
    "    except:\n",
    "        print(lines)\n",
    "        return None\n",
    "    return df.set_index('name')\n",
    "    # return df"
   ]
  },
  {
   "cell_type": "code",
   "outputs": [],
   "source": [
    "def income_statement_to_df(driver):\n",
    "    table = open_income_statement(driver)\n",
    "    f = io.StringIO('<table>' + table.get_attribute('innerHTML') + '</table>')\n",
    "    df = pd.read_html(f)\n",
    "    return df[0]"
   ],
   "metadata": {
    "collapsed": false,
    "ExecuteTime": {
     "end_time": "2024-07-12T16:05:15.704280Z",
     "start_time": "2024-07-12T16:05:15.693253Z"
    }
   },
   "id": "486ba1d97a2eba71",
   "execution_count": 4
  },
  {
   "cell_type": "code",
   "outputs": [],
   "source": [
    "def cleanup_df(df):\n",
    "    # remove multiIndex...\n",
    "    df.to_csv('df.csv')\n",
    "    with open('df.csv', \"r+\") as f:\n",
    "        d = f.readlines()\n",
    "        f.seek(0)\n",
    "        for i, line in enumerate(d):\n",
    "            if i != 0:\n",
    "                f.write(line)\n",
    "        f.truncate()\n",
    "    df = pd.read_csv('df.csv')\n",
    "    df = df.drop(df.columns[0], axis=1)\n",
    "    # not sure \n",
    "    df = df.dropna()\n",
    "    df = df.set_index(df.columns[0])\n",
    "    df.map(lambda x: float(x.replace('$', '').replace(',', '.')) if isinstance(x, str) and '$' in x else x)\n",
    "    df = df.transpose()\n",
    "    \n",
    "    return df"
   ],
   "metadata": {
    "collapsed": false,
    "ExecuteTime": {
     "end_time": "2024-07-12T16:05:15.726701Z",
     "start_time": "2024-07-12T16:05:15.710916Z"
    }
   },
   "id": "723edb951daf3e27",
   "execution_count": 5
  },
  {
   "cell_type": "code",
   "outputs": [],
   "source": [
    "def use_search_page(driver):\n",
    "    buttons = driver.find_elements(By.XPATH, \"//a[contains(text(), 'Interactive Data')]\")\n",
    "    dfs = []\n",
    "    print(len(buttons))\n",
    "    for i in range(len(buttons)):\n",
    "        # try:\n",
    "            new_buttons = driver.find_elements(By.XPATH, \"//a[contains(text(), 'Interactive Data')]\")\n",
    "            new_buttons[i].click()\n",
    "            sleep(2)\n",
    "            open_sections(driver)\n",
    "            df = income_statement_to_df(driver)\n",
    "            df = cleanup_df(df)   \n",
    "            if df is not None:\n",
    "                dfs.append(df)\n",
    "            # driver.back()\n",
    "            driver.execute_script(\"window.history.go(-1)\")\n",
    "            driver.execute_script(\"window.history.go(-1)\")\n",
    "            print(\"done one\")\n",
    "            sleep(2)\n",
    "        # except:\n",
    "        #     continue\n",
    "    return dfs"
   ],
   "metadata": {
    "collapsed": false,
    "ExecuteTime": {
     "end_time": "2024-07-12T16:05:15.747821Z",
     "start_time": "2024-07-12T16:05:15.729820Z"
    }
   },
   "id": "90446325ce3b496",
   "execution_count": 6
  },
  {
   "cell_type": "code",
   "outputs": [],
   "source": [
    "# inner join is enough - most important metric are in both\n",
    "def parse_dfs(dfs):\n",
    "    for df in dfs[1:]:\n",
    "        cols_to_use = df.columns.difference(dfs[0].columns)\n",
    "        dfs[0] = dfs[0].merge(df[cols_to_use], on='name')\n",
    "    merged_t = dfs[0].transpose()\n",
    "    \n",
    "    merged_t = merged_t.assign(date=pd.to_datetime(merged_t.index))\n",
    "    merged_t.set_index('date', inplace=True)\n",
    "    return merged_t"
   ],
   "metadata": {
    "collapsed": false,
    "ExecuteTime": {
     "end_time": "2024-07-12T16:05:15.775107Z",
     "start_time": "2024-07-12T16:05:15.756121Z"
    }
   },
   "id": "9a9d7a4a444c2d96",
   "execution_count": 7
  },
  {
   "cell_type": "code",
   "outputs": [],
   "source": [
    "lastDf = None"
   ],
   "metadata": {
    "collapsed": false,
    "ExecuteTime": {
     "end_time": "2024-07-12T16:05:15.794405Z",
     "start_time": "2024-07-12T16:05:15.779295Z"
    }
   },
   "id": "9e7bc1244d1080c0",
   "execution_count": 8
  },
  {
   "cell_type": "code",
   "outputs": [
    {
     "data": {
      "text/plain": "Index(['Dec. 31, 2023', 'Dec. 31, 2022', 'Dec. 31, 2021'], dtype='object')"
     },
     "execution_count": 15,
     "metadata": {},
     "output_type": "execute_result"
    }
   ],
   "source": [
    "# TODO: ':' ten field jest przedrostkiem, grupa\n",
    "# To nie osobna wartosc tylko: earnings per share -> Basic / Diluted. Chociaż to jest Basic (in dollars per share) XD"
   ],
   "metadata": {
    "collapsed": false,
    "ExecuteTime": {
     "end_time": "2024-07-12T16:07:33.692271Z",
     "start_time": "2024-07-12T16:07:33.674374Z"
    }
   },
   "id": "9ebc69c5f2bc251c",
   "execution_count": 15
  },
  {
   "cell_type": "code",
   "outputs": [
    {
     "name": "stdout",
     "output_type": "stream",
     "text": [
      "https://www.sec.gov/cgi-bin/browse-edgar?action=getcompany&CIK=META&type=10-K&dateb=&owner=exclude&count=100\n",
      "12\n",
      "done clicking\n"
     ]
    },
    {
     "data": {
      "text/plain": "   CONSOLIDATED STATEMENTS OF INCOME - USD ($)  shares in Millions, $ in Millions  \\\n   CONSOLIDATED STATEMENTS OF INCOME - USD ($)  shares in Millions, $ in Millions   \n0                         Income Statement [Abstract]                               \n1                                             Revenue                               \n2                                 Costs and expenses:                               \n3                                     Cost of revenue                               \n4                            Research and development                               \n5                                 Marketing and sales                               \n6                          General and administrative                               \n7                            Total costs and expenses                               \n8                              Income from operations                               \n9            Interest and other income (expense), net                               \n10           Income before provision for income taxes                               \n11                         Provision for income taxes                               \n12                                         Net income                               \n13  Earnings per share attributable to Class A and...                               \n14                       Basic (in dollars per share)                               \n15                     Diluted (in dollars per share)                               \n16  Weighted-average shares used to compute earnin...                               \n17                                  Basic (in shares)                               \n18                                Diluted (in shares)                               \n\n   12 Months Ended                              \n     Dec. 31, 2023 Dec. 31, 2022 Dec. 31, 2021  \n0              NaN           NaN           NaN  \n1        $ 134,902     $ 116,609     $ 117,929  \n2              NaN           NaN           NaN  \n3            25959         25249         22649  \n4            38483         35338         24655  \n5            12301         15262         14043  \n6            11408         11816          9829  \n7            88151         87665         71176  \n8            46751         28944         46753  \n9              677         (125)           531  \n10           47428         28819         47284  \n11            8330          5619          7914  \n12        $ 39,098      $ 23,200      $ 39,370  \n13             NaN           NaN           NaN  \n14         $ 15.19        $ 8.63       $ 13.99  \n15         $ 14.87        $ 8.59       $ 13.77  \n16             NaN           NaN           NaN  \n17            2574          2687          2815  \n18            2629          2702          2859  ",
      "text/html": "<div>\n<style scoped>\n    .dataframe tbody tr th:only-of-type {\n        vertical-align: middle;\n    }\n\n    .dataframe tbody tr th {\n        vertical-align: top;\n    }\n\n    .dataframe thead tr th {\n        text-align: left;\n    }\n</style>\n<table border=\"1\" class=\"dataframe\">\n  <thead>\n    <tr>\n      <th></th>\n      <th>CONSOLIDATED STATEMENTS OF INCOME - USD ($)  shares in Millions, $ in Millions</th>\n      <th colspan=\"3\" halign=\"left\">12 Months Ended</th>\n    </tr>\n    <tr>\n      <th></th>\n      <th>CONSOLIDATED STATEMENTS OF INCOME - USD ($)  shares in Millions, $ in Millions</th>\n      <th>Dec. 31, 2023</th>\n      <th>Dec. 31, 2022</th>\n      <th>Dec. 31, 2021</th>\n    </tr>\n  </thead>\n  <tbody>\n    <tr>\n      <th>0</th>\n      <td>Income Statement [Abstract]</td>\n      <td>NaN</td>\n      <td>NaN</td>\n      <td>NaN</td>\n    </tr>\n    <tr>\n      <th>1</th>\n      <td>Revenue</td>\n      <td>$ 134,902</td>\n      <td>$ 116,609</td>\n      <td>$ 117,929</td>\n    </tr>\n    <tr>\n      <th>2</th>\n      <td>Costs and expenses:</td>\n      <td>NaN</td>\n      <td>NaN</td>\n      <td>NaN</td>\n    </tr>\n    <tr>\n      <th>3</th>\n      <td>Cost of revenue</td>\n      <td>25959</td>\n      <td>25249</td>\n      <td>22649</td>\n    </tr>\n    <tr>\n      <th>4</th>\n      <td>Research and development</td>\n      <td>38483</td>\n      <td>35338</td>\n      <td>24655</td>\n    </tr>\n    <tr>\n      <th>5</th>\n      <td>Marketing and sales</td>\n      <td>12301</td>\n      <td>15262</td>\n      <td>14043</td>\n    </tr>\n    <tr>\n      <th>6</th>\n      <td>General and administrative</td>\n      <td>11408</td>\n      <td>11816</td>\n      <td>9829</td>\n    </tr>\n    <tr>\n      <th>7</th>\n      <td>Total costs and expenses</td>\n      <td>88151</td>\n      <td>87665</td>\n      <td>71176</td>\n    </tr>\n    <tr>\n      <th>8</th>\n      <td>Income from operations</td>\n      <td>46751</td>\n      <td>28944</td>\n      <td>46753</td>\n    </tr>\n    <tr>\n      <th>9</th>\n      <td>Interest and other income (expense), net</td>\n      <td>677</td>\n      <td>(125)</td>\n      <td>531</td>\n    </tr>\n    <tr>\n      <th>10</th>\n      <td>Income before provision for income taxes</td>\n      <td>47428</td>\n      <td>28819</td>\n      <td>47284</td>\n    </tr>\n    <tr>\n      <th>11</th>\n      <td>Provision for income taxes</td>\n      <td>8330</td>\n      <td>5619</td>\n      <td>7914</td>\n    </tr>\n    <tr>\n      <th>12</th>\n      <td>Net income</td>\n      <td>$ 39,098</td>\n      <td>$ 23,200</td>\n      <td>$ 39,370</td>\n    </tr>\n    <tr>\n      <th>13</th>\n      <td>Earnings per share attributable to Class A and...</td>\n      <td>NaN</td>\n      <td>NaN</td>\n      <td>NaN</td>\n    </tr>\n    <tr>\n      <th>14</th>\n      <td>Basic (in dollars per share)</td>\n      <td>$ 15.19</td>\n      <td>$ 8.63</td>\n      <td>$ 13.99</td>\n    </tr>\n    <tr>\n      <th>15</th>\n      <td>Diluted (in dollars per share)</td>\n      <td>$ 14.87</td>\n      <td>$ 8.59</td>\n      <td>$ 13.77</td>\n    </tr>\n    <tr>\n      <th>16</th>\n      <td>Weighted-average shares used to compute earnin...</td>\n      <td>NaN</td>\n      <td>NaN</td>\n      <td>NaN</td>\n    </tr>\n    <tr>\n      <th>17</th>\n      <td>Basic (in shares)</td>\n      <td>2574</td>\n      <td>2687</td>\n      <td>2815</td>\n    </tr>\n    <tr>\n      <th>18</th>\n      <td>Diluted (in shares)</td>\n      <td>2629</td>\n      <td>2702</td>\n      <td>2859</td>\n    </tr>\n  </tbody>\n</table>\n</div>"
     },
     "execution_count": 12,
     "metadata": {},
     "output_type": "execute_result"
    }
   ],
   "source": [
    "driver = webdriver.Chrome()\n",
    "search_url = 'https://www.sec.gov/cgi-bin/browse-edgar?action=getcompany&CIK=$$$&type=10-K&dateb=&owner=exclude&count=100'\n",
    "# tickers = ['AMZN', 'META']\n",
    "tickers = [\"META\"] # working\n",
    "companies = {}\n",
    "for ticker in tickers:\n",
    "    url = search_url.replace('$$$', ticker)\n",
    "    print(url)\n",
    "    driver.get(url)\n",
    "    dfs = use_search_page(driver)\n",
    "    lastDf = dfs\n",
    "    # companies[ticker] = parse_dfs(dfs)\n",
    "dfs\n",
    "# print(\"len\", len(dfs))"
   ],
   "metadata": {
    "collapsed": false,
    "ExecuteTime": {
     "end_time": "2024-07-12T16:06:20.771876Z",
     "start_time": "2024-07-12T16:06:09.694201Z"
    }
   },
   "id": "3e09758760b97664",
   "execution_count": 12
  },
  {
   "cell_type": "code",
   "outputs": [],
   "source": [
    "companies['META'].head()"
   ],
   "metadata": {
    "collapsed": false
   },
   "id": "80c4f072fb5d975",
   "execution_count": null
  },
  {
   "cell_type": "code",
   "outputs": [],
   "source": [],
   "metadata": {
    "collapsed": false
   },
   "id": "8a69e257f4fe3c12",
   "execution_count": null
  }
 ],
 "metadata": {
  "kernelspec": {
   "display_name": "Python 3 (ipykernel)",
   "language": "python",
   "name": "python3"
  },
  "language_info": {
   "codemirror_mode": {
    "name": "ipython",
    "version": 3
   },
   "file_extension": ".py",
   "mimetype": "text/x-python",
   "name": "python",
   "nbconvert_exporter": "python",
   "pygments_lexer": "ipython3",
   "version": "3.12.0"
  }
 },
 "nbformat": 4,
 "nbformat_minor": 5
}
