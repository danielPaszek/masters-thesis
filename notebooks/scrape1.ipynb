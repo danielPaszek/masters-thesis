{
 "cells": [
  {
   "cell_type": "code",
   "execution_count": 1,
   "id": "initial_id",
   "metadata": {
    "collapsed": true,
    "jupyter": {
     "outputs_hidden": true
    },
    "ExecuteTime": {
     "end_time": "2024-07-13T21:10:50.698450Z",
     "start_time": "2024-07-13T21:10:49.585378Z"
    }
   },
   "outputs": [],
   "source": [
    "from selenium import webdriver\n",
    "from selenium.webdriver.common.by import By\n",
    "from time import sleep\n",
    "import pandas as pd\n",
    "import json\n",
    "import numpy as np\n",
    "import io\n",
    "from Web.browse_edgar import *\n",
    "import datetime"
   ]
  },
  {
   "cell_type": "markdown",
   "id": "6e877a097293dfc0",
   "metadata": {
    "collapsed": false
   },
   "source": [
    "https://www.sec.gov/ixviewer/ix.html?doc= (/Archives/edgar/data/320193/000162828017000717/a10-qq1201712312016.htm) is prefix for xlbr viewer :)\n"
   ]
  },
  {
   "cell_type": "markdown",
   "id": "e1512c83eaa7fec2",
   "metadata": {
    "collapsed": false
   },
   "source": [
    "# Trying sec website. not actual filings\n",
    "\n",
    "https://www.macrotrends.net/stocks/charts/META/meta-platforms/financial-statements\n",
    "go to all financial statements\n",
    "interactive data :)\n",
    "\n",
    "10-q - to co szukamy kwartalne\n",
    "10-k - to co szukamy roczne"
   ]
  },
  {
   "cell_type": "code",
   "execution_count": 2,
   "id": "ad01a6d6058fe8a5",
   "metadata": {
    "collapsed": false,
    "ExecuteTime": {
     "end_time": "2024-07-13T21:10:50.708800Z",
     "start_time": "2024-07-13T21:10:50.701088Z"
    }
   },
   "outputs": [],
   "source": [
    "def scrape_income_statement(driver):\n",
    "    # TODO: https://stackoverflow.com/questions/8474031/case-insensitive-xpath-contains-possible\n",
    "    table = open_income_statement(driver)\n",
    "    lines = []\n",
    "    for tr in table.find_elements(By.XPATH, \"./tr\"):\n",
    "        line = []\n",
    "        for th in tr.find_elements(By.XPATH, \"./th\") or []:\n",
    "            text = th.text.strip()\n",
    "            if text:\n",
    "                line.append(th.text)\n",
    "        for td in tr.find_elements(By.XPATH, \"./td\") or []:\n",
    "            text = td.text.strip()\n",
    "            if text:\n",
    "                line.append(td.text)\n",
    "        lines.append(line)\n",
    "        \n",
    "    title = lines.pop(0)\n",
    "    try:\n",
    "        date = pd.to_datetime(lines[0][0], format='%b. %d, %Y')\n",
    "        dates = lines.pop(0)\n",
    "    except:\n",
    "        dates = title[1:]\n",
    "        print('No date in second line')\n",
    "    \n",
    "    try:\n",
    "        lines = list(filter(lambda x: len(x) > 1, lines))\n",
    "        \n",
    "        lines = np.array(lines)\n",
    "        lines = np.char.replace(lines, '$', '')\n",
    "        np.char.strip(lines)\n",
    "        df = pd.DataFrame(lines, columns=['name', *dates])\n",
    "    except:\n",
    "        print(lines)\n",
    "        return None\n",
    "    return df.set_index('name')\n",
    "    # return df"
   ]
  },
  {
   "cell_type": "code",
   "outputs": [],
   "source": [
    "parsed_income_statements = []\n",
    "def income_statement_to_df(driver):\n",
    "    table = open_income_statement(driver)\n",
    "    f = io.StringIO('<table>' + table.get_attribute('innerHTML') + '</table>')\n",
    "    dfs = pd.read_html(f)\n",
    "    parsed_income_statements.append(dfs)\n",
    "    return clean_from_html_weird_tables(dfs[0])\n",
    "\n",
    "    # if len(dfs) > 1:\n",
    "        # dodaj sprawdzenie który parsować\n",
    "    # return dfs[0]"
   ],
   "metadata": {
    "collapsed": false,
    "ExecuteTime": {
     "end_time": "2024-07-13T21:10:50.715802Z",
     "start_time": "2024-07-13T21:10:50.710800Z"
    }
   },
   "id": "486ba1d97a2eba71",
   "execution_count": 3
  },
  {
   "cell_type": "code",
   "outputs": [],
   "source": [
    "# parsed_income_statements[3][0]\n",
    "# clean_from_html_weird_tables(parsed_income_statements[3][0])"
   ],
   "metadata": {
    "collapsed": false,
    "ExecuteTime": {
     "end_time": "2024-07-13T21:10:50.721799Z",
     "start_time": "2024-07-13T21:10:50.717799Z"
    }
   },
   "id": "4ea0b860cc03a7a5",
   "execution_count": 4
  },
  {
   "cell_type": "code",
   "outputs": [],
   "source": [
    "import functools\n",
    "# parsed_income_statements[10][0]\n",
    "# df: pd.DataFrame = parsed_income_statements[12][0].copy()\n",
    "\n",
    "def clean_from_html_weird_tables(df):\n",
    "# pusty nagłówek - ten dziwny nagłówek z dwóch wierszy\n",
    "    nan_df = df.isna().any(axis=1)\n",
    "    while nan_df[0]:\n",
    "        df = df.drop(0).reset_index(drop=True)\n",
    "        nan_df = df.isna().any(axis=1)\n",
    "\n",
    "    # 12 Months Ended jako wiersz\n",
    "    to_del = False\n",
    "    for v in df.iloc[0]:\n",
    "        if isinstance(v, str) and v.strip() == '12 Months Ended':\n",
    "            to_del = True\n",
    "    if to_del:  \n",
    "        print('aaaa')\n",
    "        df = df.drop(0)\n",
    "        \n",
    "    #     change to contains or something!\n",
    "    columns_to_drop = df[df == '[1]'].any(axis=0)\n",
    "    for i, v in enumerate(columns_to_drop):\n",
    "        if v:\n",
    "            df.drop(i, axis=1, inplace=True)\n",
    "    \n",
    "    return df\n"
   ],
   "metadata": {
    "collapsed": false,
    "ExecuteTime": {
     "end_time": "2024-07-13T21:10:50.762520Z",
     "start_time": "2024-07-13T21:10:50.724799Z"
    }
   },
   "id": "f84065d66a7143a4",
   "execution_count": 5
  },
  {
   "cell_type": "code",
   "outputs": [],
   "source": [
    "def cleanup_df(df):\n",
    "    # remove multiIndex\n",
    "    df.to_csv('df.csv')\n",
    "    with open('df.csv', \"r+\") as f:\n",
    "        d = f.readlines()\n",
    "        f.seek(0)\n",
    "        for i, line in enumerate(d):\n",
    "            if i != 0:\n",
    "                f.write(line)\n",
    "        f.truncate()\n",
    "    df = pd.read_csv('df.csv')\n",
    "    df = df.drop(df.columns[0], axis=1)\n",
    "    # not sure \n",
    "    df = df.dropna()\n",
    "    \n",
    "    df = df.rename(columns={df.columns[0]: 'date'})\n",
    "    df = df.set_index(df.columns[0])\n",
    "    df = df.map(lambda x: x.replace('$', '').replace(',', '') if isinstance(x, str) and '$' in x else x)\n",
    "    df = df.transpose()\n",
    "    \n",
    "    return df"
   ],
   "metadata": {
    "collapsed": false,
    "ExecuteTime": {
     "end_time": "2024-07-13T21:10:50.769738Z",
     "start_time": "2024-07-13T21:10:50.763519Z"
    }
   },
   "id": "723edb951daf3e27",
   "execution_count": 6
  },
  {
   "cell_type": "code",
   "outputs": [],
   "source": [
    "def use_search_page(driver):\n",
    "    buttons = driver.find_elements(By.XPATH, \"//a[contains(text(), 'Interactive Data')]\")\n",
    "    dfs = []\n",
    "    print(len(buttons))\n",
    "    for i in range(len(buttons)):\n",
    "        # try:\n",
    "            new_buttons = driver.find_elements(By.XPATH, \"//a[contains(text(), 'Interactive Data')]\")\n",
    "            new_buttons[i].click()\n",
    "            sleep(1)\n",
    "            open_sections(driver)\n",
    "            df = income_statement_to_df(driver)\n",
    "            df = cleanup_df(df)   \n",
    "            dfs.append(df)\n",
    "            driver.execute_script(\"window.history.go(-1)\")\n",
    "            driver.execute_script(\"window.history.go(-1)\")\n",
    "            print(\"done one\")\n",
    "            sleep(1)\n",
    "        # except:\n",
    "        #     continue\n",
    "    return dfs"
   ],
   "metadata": {
    "collapsed": false,
    "ExecuteTime": {
     "end_time": "2024-07-13T21:10:50.776262Z",
     "start_time": "2024-07-13T21:10:50.770737Z"
    }
   },
   "id": "90446325ce3b496",
   "execution_count": 7
  },
  {
   "cell_type": "code",
   "outputs": [],
   "source": [
    "def merge_dfs(dfs):\n",
    "    acc = {}\n",
    "    for i, df in enumerate(dfs):\n",
    "        for row in df.iterrows():\n",
    "            acc[row[0]] = row[1].to_dict()\n",
    "    return pd.DataFrame(acc)"
   ],
   "metadata": {
    "collapsed": false,
    "ExecuteTime": {
     "end_time": "2024-07-13T21:10:50.782784Z",
     "start_time": "2024-07-13T21:10:50.778254Z"
    }
   },
   "id": "9a9d7a4a444c2d96",
   "execution_count": 8
  },
  {
   "cell_type": "code",
   "outputs": [],
   "source": [
    "lastDf = None"
   ],
   "metadata": {
    "collapsed": false,
    "ExecuteTime": {
     "end_time": "2024-07-13T21:10:50.787745Z",
     "start_time": "2024-07-13T21:10:50.783774Z"
    }
   },
   "id": "9e7bc1244d1080c0",
   "execution_count": 9
  },
  {
   "cell_type": "code",
   "outputs": [
    {
     "name": "stdout",
     "output_type": "stream",
     "text": [
      "https://www.sec.gov/cgi-bin/browse-edgar?action=getcompany&CIK=AAPL&type=10-K&dateb=&owner=exclude&count=100\n",
      "16\n",
      "done clicking\n",
      "done one\n",
      "done clicking\n",
      "done one\n",
      "done clicking\n",
      "done one\n",
      "done clicking\n",
      "done one\n",
      "done clicking\n",
      "done one\n",
      "done clicking\n",
      "done one\n",
      "done clicking\n",
      "done one\n",
      "done clicking\n",
      "done one\n",
      "done clicking\n",
      "done one\n",
      "done clicking\n",
      "done one\n",
      "done clicking\n",
      "done one\n",
      "done clicking\n",
      "done one\n",
      "done clicking\n",
      "done one\n",
      "done clicking\n",
      "done one\n",
      "done clicking\n",
      "done one\n",
      "done clicking\n",
      "done one\n",
      "https://www.sec.gov/cgi-bin/browse-edgar?action=getcompany&CIK=MSFT&type=10-K&dateb=&owner=exclude&count=100\n",
      "14\n",
      "done clicking\n",
      "done one\n",
      "done clicking\n",
      "done one\n",
      "done clicking\n",
      "done one\n",
      "done clicking\n",
      "aaaa\n",
      "done one\n",
      "done clicking\n",
      "aaaa\n",
      "done one\n",
      "done clicking\n",
      "aaaa\n",
      "done one\n",
      "done clicking\n",
      "aaaa\n",
      "done one\n",
      "done clicking\n",
      "aaaa\n",
      "done one\n",
      "done clicking\n",
      "aaaa\n",
      "done one\n",
      "done clicking\n",
      "aaaa\n",
      "done one\n",
      "done clicking\n",
      "aaaa\n",
      "done one\n",
      "done clicking\n",
      "aaaa\n",
      "done one\n",
      "done clicking\n",
      "done one\n",
      "done clicking\n",
      "done one\n",
      "https://www.sec.gov/cgi-bin/browse-edgar?action=getcompany&CIK=NVDA&type=10-K&dateb=&owner=exclude&count=100\n",
      "15\n",
      "done clicking\n",
      "done one\n",
      "done clicking\n",
      "done one\n",
      "done clicking\n",
      "done one\n",
      "done clicking\n",
      "done one\n",
      "done clicking\n",
      "done one\n",
      "done clicking\n",
      "aaaa\n",
      "done one\n",
      "done clicking\n",
      "aaaa\n",
      "done one\n",
      "done clicking\n",
      "aaaa\n",
      "done one\n",
      "done clicking\n",
      "done one\n",
      "done clicking\n",
      "done one\n",
      "done clicking\n",
      "done one\n",
      "done clicking\n",
      "done one\n",
      "done clicking\n",
      "done one\n",
      "done clicking\n",
      "done one\n",
      "done clicking\n",
      "done one\n",
      "https://www.sec.gov/cgi-bin/browse-edgar?action=getcompany&CIK=GOOG&type=10-K&dateb=&owner=exclude&count=100\n",
      "9\n",
      "done clicking\n",
      "done one\n",
      "done clicking\n",
      "done one\n",
      "done clicking\n",
      "done one\n",
      "done clicking\n",
      "done one\n",
      "done clicking\n",
      "done one\n",
      "done clicking\n",
      "done one\n",
      "done clicking\n",
      "done one\n",
      "done clicking\n",
      "done one\n",
      "done clicking\n",
      "done one\n",
      "https://www.sec.gov/cgi-bin/browse-edgar?action=getcompany&CIK=AMZN&type=10-K&dateb=&owner=exclude&count=100\n",
      "15\n",
      "done clicking\n",
      "done one\n",
      "done clicking\n",
      "done one\n",
      "done clicking\n",
      "done one\n",
      "done clicking\n",
      "done one\n",
      "done clicking\n",
      "done one\n",
      "done clicking\n",
      "done one\n",
      "done clicking\n",
      "done one\n",
      "done clicking\n",
      "done one\n",
      "done clicking\n",
      "done one\n",
      "done clicking\n",
      "done one\n",
      "done clicking\n",
      "aaaa\n",
      "done one\n",
      "done clicking\n",
      "aaaa\n",
      "done one\n",
      "done clicking\n",
      "aaaa\n",
      "done one\n",
      "done clicking\n",
      "aaaa\n",
      "done one\n",
      "done clicking\n",
      "done one\n",
      "https://www.sec.gov/cgi-bin/browse-edgar?action=getcompany&CIK=META&type=10-K&dateb=&owner=exclude&count=100\n",
      "12\n",
      "done clicking\n",
      "done one\n",
      "done clicking\n",
      "done one\n",
      "done clicking\n",
      "done one\n",
      "done clicking\n",
      "done one\n",
      "done clicking\n",
      "done one\n",
      "done clicking\n",
      "done one\n",
      "done clicking\n",
      "done one\n",
      "done clicking\n",
      "done one\n",
      "done clicking\n",
      "done one\n",
      "done clicking\n",
      "done one\n",
      "done clicking\n",
      "done one\n",
      "done clicking\n",
      "done one\n",
      "https://www.sec.gov/cgi-bin/browse-edgar?action=getcompany&CIK=BRK-B&type=10-K&dateb=&owner=exclude&count=100\n",
      "15\n",
      "done clicking\n"
     ]
    },
    {
     "ename": "Exception",
     "evalue": "No table found",
     "output_type": "error",
     "traceback": [
      "\u001B[1;31m---------------------------------------------------------------------------\u001B[0m",
      "\u001B[1;31mException\u001B[0m                                 Traceback (most recent call last)",
      "Cell \u001B[1;32mIn[10], line 11\u001B[0m\n\u001B[0;32m      9\u001B[0m \u001B[38;5;28mprint\u001B[39m(url)\n\u001B[0;32m     10\u001B[0m driver\u001B[38;5;241m.\u001B[39mget(url)\n\u001B[1;32m---> 11\u001B[0m dfs \u001B[38;5;241m=\u001B[39m \u001B[43muse_search_page\u001B[49m\u001B[43m(\u001B[49m\u001B[43mdriver\u001B[49m\u001B[43m)\u001B[49m\n\u001B[0;32m     12\u001B[0m resultDf \u001B[38;5;241m=\u001B[39m merge_dfs(dfs)\n\u001B[0;32m     13\u001B[0m resultDf\u001B[38;5;241m.\u001B[39mto_csv(ticker \u001B[38;5;241m+\u001B[39m \u001B[38;5;124m\"\u001B[39m\u001B[38;5;124m.csv\u001B[39m\u001B[38;5;124m\"\u001B[39m)\n",
      "Cell \u001B[1;32mIn[7], line 11\u001B[0m, in \u001B[0;36muse_search_page\u001B[1;34m(driver)\u001B[0m\n\u001B[0;32m      9\u001B[0m sleep(\u001B[38;5;241m1\u001B[39m)\n\u001B[0;32m     10\u001B[0m open_sections(driver)\n\u001B[1;32m---> 11\u001B[0m df \u001B[38;5;241m=\u001B[39m \u001B[43mincome_statement_to_df\u001B[49m\u001B[43m(\u001B[49m\u001B[43mdriver\u001B[49m\u001B[43m)\u001B[49m\n\u001B[0;32m     12\u001B[0m df \u001B[38;5;241m=\u001B[39m cleanup_df(df)   \n\u001B[0;32m     13\u001B[0m dfs\u001B[38;5;241m.\u001B[39mappend(df)\n",
      "Cell \u001B[1;32mIn[3], line 3\u001B[0m, in \u001B[0;36mincome_statement_to_df\u001B[1;34m(driver)\u001B[0m\n\u001B[0;32m      2\u001B[0m \u001B[38;5;28;01mdef\u001B[39;00m \u001B[38;5;21mincome_statement_to_df\u001B[39m(driver):\n\u001B[1;32m----> 3\u001B[0m     table \u001B[38;5;241m=\u001B[39m \u001B[43mopen_income_statement\u001B[49m\u001B[43m(\u001B[49m\u001B[43mdriver\u001B[49m\u001B[43m)\u001B[49m\n\u001B[0;32m      4\u001B[0m     f \u001B[38;5;241m=\u001B[39m io\u001B[38;5;241m.\u001B[39mStringIO(\u001B[38;5;124m'\u001B[39m\u001B[38;5;124m<table>\u001B[39m\u001B[38;5;124m'\u001B[39m \u001B[38;5;241m+\u001B[39m table\u001B[38;5;241m.\u001B[39mget_attribute(\u001B[38;5;124m'\u001B[39m\u001B[38;5;124minnerHTML\u001B[39m\u001B[38;5;124m'\u001B[39m) \u001B[38;5;241m+\u001B[39m \u001B[38;5;124m'\u001B[39m\u001B[38;5;124m</table>\u001B[39m\u001B[38;5;124m'\u001B[39m)\n\u001B[0;32m      5\u001B[0m     dfs \u001B[38;5;241m=\u001B[39m pd\u001B[38;5;241m.\u001B[39mread_html(f)\n",
      "File \u001B[1;32mF:\\programowanie\\studia\\magisterka\\sec_scrapper2\\scientificProject\\Web\\browse_edgar.py:43\u001B[0m, in \u001B[0;36mopen_income_statement\u001B[1;34m(driver)\u001B[0m\n\u001B[0;32m     41\u001B[0m         \u001B[38;5;28;01mcontinue\u001B[39;00m\n\u001B[0;32m     42\u001B[0m \u001B[38;5;28;01mif\u001B[39;00m \u001B[38;5;129;01mnot\u001B[39;00m table:\n\u001B[1;32m---> 43\u001B[0m     \u001B[38;5;28;01mraise\u001B[39;00m \u001B[38;5;167;01mException\u001B[39;00m(\u001B[38;5;124m\"\u001B[39m\u001B[38;5;124mNo table found\u001B[39m\u001B[38;5;124m\"\u001B[39m)\n\u001B[0;32m     44\u001B[0m \u001B[38;5;28;01mreturn\u001B[39;00m table\n",
      "\u001B[1;31mException\u001B[0m: No table found"
     ]
    }
   ],
   "source": [
    "driver = webdriver.Chrome()\n",
    "search_url = 'https://www.sec.gov/cgi-bin/browse-edgar?action=getcompany&CIK=$$$&type=10-K&dateb=&owner=exclude&count=100'\n",
    "# tickers = ['META', 'AMZN', 'AAPL']\n",
    "tickers = [\"AAPL\", 'MSFT', 'NVDA', 'GOOG', 'AMZN', 'META', 'BRK-B', 'LLY', 'TSLA', 'AVGO'] \n",
    "# tickers = ['MSFT']\n",
    "companies = {}\n",
    "for ticker in tickers:\n",
    "    url = search_url.replace('$$$', ticker)\n",
    "    print(url)\n",
    "    driver.get(url)\n",
    "    dfs = use_search_page(driver)\n",
    "    resultDf = merge_dfs(dfs)\n",
    "    resultDf.to_csv(ticker + \".csv\")\n",
    "\n",
    "print(\"SAVED TO CSV\")\n"
   ],
   "metadata": {
    "collapsed": false,
    "ExecuteTime": {
     "end_time": "2024-07-13T21:22:20.803997Z",
     "start_time": "2024-07-13T21:10:50.789747Z"
    }
   },
   "id": "3e09758760b97664",
   "execution_count": 10
  }
 ],
 "metadata": {
  "kernelspec": {
   "display_name": "Python 3 (ipykernel)",
   "language": "python",
   "name": "python3"
  },
  "language_info": {
   "codemirror_mode": {
    "name": "ipython",
    "version": 3
   },
   "file_extension": ".py",
   "mimetype": "text/x-python",
   "name": "python",
   "nbconvert_exporter": "python",
   "pygments_lexer": "ipython3",
   "version": "3.12.0"
  }
 },
 "nbformat": 4,
 "nbformat_minor": 5
}
