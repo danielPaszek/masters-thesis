{
 "cells": [
  {
   "cell_type": "code",
   "outputs": [],
   "source": [
    "from selenium import webdriver\n",
    "from selenium.webdriver.common.by import By\n",
    "from time import sleep\n",
    "import pandas as pd\n",
    "import json\n",
    "import numpy as np\n",
    "import io\n",
    "from Web.browse_edgar import *\n",
    "import csv\n",
    "import os\n",
    "import datetime"
   ],
   "metadata": {
    "collapsed": true,
    "jupyter": {
     "outputs_hidden": true
    },
    "ExecuteTime": {
     "end_time": "2024-12-01T20:57:02.455610Z",
     "start_time": "2024-12-01T20:57:01.788808Z"
    }
   },
   "id": "initial_id",
   "execution_count": 1
  },
  {
   "cell_type": "markdown",
   "source": [
    "https://www.sec.gov/ixviewer/ix.html?doc= (/Archives/edgar/data/320193/000162828017000717/a10-qq1201712312016.htm) is prefix for xlbr viewer :)\n"
   ],
   "metadata": {
    "collapsed": false
   },
   "id": "6e877a097293dfc0"
  },
  {
   "cell_type": "markdown",
   "source": [
    "# Trying sec website. not actual filings\n",
    "\n",
    "https://www.macrotrends.net/stocks/charts/META/meta-platforms/financial-statements\n",
    "go to all financial statements\n",
    "interactive data :)\n",
    "\n",
    "10-q - to co szukamy kwartalne\n",
    "10-k - to co szukamy roczne"
   ],
   "metadata": {
    "collapsed": false
   },
   "id": "e1512c83eaa7fec2"
  },
  {
   "cell_type": "code",
   "outputs": [],
   "source": [
    "# def scrape_income_statement(driver):\n",
    "#     # TODO: https://stackoverflow.com/questions/8474031/case-insensitive-xpath-contains-possible\n",
    "#     table = open_income_statement(driver)\n",
    "#     lines = []\n",
    "#     for tr in table.find_elements(By.XPATH, \"./tr\"):\n",
    "#         line = []\n",
    "#         for th in tr.find_elements(By.XPATH, \"./th\") or []:\n",
    "#             text = th.text.strip()\n",
    "#             if text:\n",
    "#                 line.append(th.text)\n",
    "#         for td in tr.find_elements(By.XPATH, \"./td\") or []:\n",
    "#             text = td.text.strip()\n",
    "#             if text:\n",
    "#                 line.append(td.text)\n",
    "#         lines.append(line)\n",
    "#         \n",
    "#     title = lines.pop(0)\n",
    "#     try:\n",
    "#         date = pd.to_datetime(lines[0][0], format='%b. %d, %Y')\n",
    "#         dates = lines.pop(0)\n",
    "#     except:\n",
    "#         dates = title[1:]\n",
    "#         print('No date in second line')\n",
    "#     \n",
    "#     try:\n",
    "#         lines = list(filter(lambda x: len(x) > 1, lines))\n",
    "#         \n",
    "#         lines = np.array(lines)\n",
    "#         lines = np.char.replace(lines, '$', '')\n",
    "#         np.char.strip(lines)\n",
    "#         df = pd.DataFrame(lines, columns=['name', *dates])\n",
    "#     except:\n",
    "#         print(lines)\n",
    "#         return None\n",
    "#     return df.set_index('name')\n",
    "#     # return df"
   ],
   "metadata": {
    "collapsed": false,
    "ExecuteTime": {
     "end_time": "2024-12-01T20:57:02.462566Z",
     "start_time": "2024-12-01T20:57:02.457838Z"
    }
   },
   "id": "ad01a6d6058fe8a5",
   "execution_count": 2
  },
  {
   "cell_type": "code",
   "outputs": [],
   "source": [
    "parsed_income_statements = []\n",
    "def income_statement_to_df(driver):\n",
    "    table = open_income_statement(driver)\n",
    "    if table is None:\n",
    "        return None\n",
    "    f = io.StringIO('<table>' + table.get_attribute('innerHTML') + '</table>')\n",
    "    dfs = pd.read_html(f)\n",
    "    parsed_income_statements.append(dfs)\n",
    "    # 27.10\n",
    "    return dfs\n",
    "    # Rename doubled columns\n",
    "    df = dfs[0]\n",
    "    # df.iloc[:, 0] = df.iloc[:, 0] + df.groupby(df.iloc[:, 0]).cumcount().astype(str).replace('0', '')\n",
    "    return clean_from_html_weird_tables(df)\n",
    "\n",
    "    # if len(dfs) > 1:\n",
    "        # dodaj sprawdzenie który parsować\n",
    "    # return dfs[0]"
   ],
   "metadata": {
    "collapsed": false,
    "ExecuteTime": {
     "end_time": "2024-12-01T20:57:02.471657Z",
     "start_time": "2024-12-01T20:57:02.464730Z"
    }
   },
   "id": "486ba1d97a2eba71",
   "execution_count": 3
  },
  {
   "cell_type": "code",
   "outputs": [],
   "source": [
    "# parsed_income_statements[3][0]\n",
    "# clean_from_html_weird_tables(parsed_income_statements[3][0])\n",
    "# df = parsed_income_statements[0][0].copy()\n",
    "# df.iloc[:, 0] = df.iloc[:, 0] + df.groupby(df.iloc[:, 0]).cumcount().astype(str).replace('0', '')\n",
    "# df"
   ],
   "metadata": {
    "collapsed": false,
    "ExecuteTime": {
     "end_time": "2024-12-01T20:57:02.478671Z",
     "start_time": "2024-12-01T20:57:02.473783Z"
    }
   },
   "id": "4ea0b860cc03a7a5",
   "execution_count": 4
  },
  {
   "cell_type": "code",
   "outputs": [],
   "source": [
    "import functools\n",
    "# parsed_income_statements[10][0]\n",
    "# df: pd.DataFrame = parsed_income_statements[12][0].copy()\n",
    "\n",
    "def clean_from_html_weird_tables(df):\n",
    "    df = df.loc[:, df.isnull().mean() < .9]\n",
    "# pusty nagłówek - ten dziwny nagłówek z dwóch wierszy\n",
    "    nan_df = df.isna().any(axis=1)\n",
    "    while nan_df[0]:\n",
    "        df = df.drop(0).reset_index(drop=True)\n",
    "        nan_df = df.isna().any(axis=1)\n",
    "\n",
    "    # 12 Months Ended jako wiersz\n",
    "    to_del = False\n",
    "    for v in df.iloc[0]:\n",
    "        if isinstance(v, str) and v.strip() == '12 Months Ended':\n",
    "            to_del = True\n",
    "    if to_del:  \n",
    "        df = df.drop(0)\n",
    "        \n",
    "    #     change to contains or something!\n",
    "    # UPDATE: idk co to\n",
    "    columns_to_drop = df[df == '[1]'].any(axis=0)\n",
    "    for i, v in enumerate(columns_to_drop):\n",
    "        if v:\n",
    "            df.drop(i, axis=1, inplace=True)\n",
    "    \n",
    "    return df\n"
   ],
   "metadata": {
    "collapsed": false,
    "ExecuteTime": {
     "end_time": "2024-12-01T20:57:02.489527Z",
     "start_time": "2024-12-01T20:57:02.481863Z"
    }
   },
   "id": "f84065d66a7143a4",
   "execution_count": 5
  },
  {
   "cell_type": "code",
   "outputs": [],
   "source": [
    "def cleanup_df(df):\n",
    "    # remove multiIndex\n",
    "    df.to_csv('df.csv')\n",
    "    with open('df.csv', \"r+\") as f:\n",
    "        d = f.readlines()\n",
    "        f.seek(0)\n",
    "        for i, line in enumerate(d):\n",
    "            if i != 0:\n",
    "                f.write(line)\n",
    "        f.truncate()\n",
    "    df = pd.read_csv('df.csv')\n",
    "    df = df.drop(df.columns[0], axis=1)\n",
    "    # drop columns containing mostly NaN then drop NaN rows\n",
    "    df = df.loc[:, df.isnull().mean() < .8]\n",
    "    df = df.dropna()\n",
    "\n",
    "    \n",
    "    df = df.rename(columns={df.columns[0]: 'date'})\n",
    "    df = df.set_index(df.columns[0])\n",
    "    df = df.map(lambda x: x.replace('$', '').replace(',', '').strip() if isinstance(x, str) and '$' in x else x)\n",
    "    df = df.transpose()\n",
    "    \n",
    "    return df"
   ],
   "metadata": {
    "collapsed": false,
    "ExecuteTime": {
     "end_time": "2024-12-01T20:57:02.498380Z",
     "start_time": "2024-12-01T20:57:02.491625Z"
    }
   },
   "id": "723edb951daf3e27",
   "execution_count": 6
  },
  {
   "cell_type": "code",
   "outputs": [],
   "source": [
    "debugBefore = []\n",
    "def use_search_page(driver, ticker):\n",
    "    buttons = driver.find_elements(By.XPATH, \"//a[contains(text(), 'Interactive Data')]\")\n",
    "    dfs = []\n",
    "    print(len(buttons))\n",
    "    debugBefore.clear()\n",
    "    if not os.path.isdir(f\"../data/raw/{ticker}\"):\n",
    "        os.mkdir(f\"../data/raw/{ticker}\")\n",
    "    for i in range(len(buttons)):\n",
    "        # try:\n",
    "            new_buttons = driver.find_elements(By.XPATH, \"//a[contains(text(), 'Interactive Data')]\")\n",
    "            new_buttons[i].click()\n",
    "            sleep(1)\n",
    "            ok = open_sections(driver)\n",
    "            if not ok:\n",
    "                print(\"No sections found - SKIPPING!!!!!!\")\n",
    "                file1 = open(\"errors.txt\", \"w\") \n",
    "                file1.write(ticker)\n",
    "                driver.execute_script(\"window.history.go(-1)\")\n",
    "                continue\n",
    "            # df = income_statement_to_df(driver)\n",
    "            # 27.10\n",
    "            dfs = income_statement_to_df(driver)\n",
    "            if dfs is None:\n",
    "                print(\"skipping. Maybe 10-k/a?\")\n",
    "                driver.execute_script(\"window.history.go(-1)\")\n",
    "                continue\n",
    "            for dfNum, df in enumerate(dfs):\n",
    "                df.to_csv(f\"../data/raw/{ticker}/{i}-{dfNum}.csv\")\n",
    "            # END 27.10\n",
    "            # if df is None:\n",
    "            #     print(\"Skipping df\")\n",
    "            #     driver.execute_script(\"window.history.go(-1)\")\n",
    "            #     sleep(1)\n",
    "            #     continue\n",
    "            # \n",
    "            # debugBefore.append(df.copy())\n",
    "            # df = cleanup_df(df)   \n",
    "            # dfs.append(df)\n",
    "            driver.execute_script(\"window.history.go(-1)\")\n",
    "            driver.execute_script(\"window.history.go(-1)\")\n",
    "            print(\"done one\")\n",
    "            sleep(1)\n",
    "        # except:\n",
    "        #     continue\n",
    "    return dfs"
   ],
   "metadata": {
    "collapsed": false,
    "ExecuteTime": {
     "end_time": "2024-12-01T20:57:02.511576Z",
     "start_time": "2024-12-01T20:57:02.500490Z"
    }
   },
   "id": "90446325ce3b496",
   "execution_count": 7
  },
  {
   "cell_type": "code",
   "outputs": [],
   "source": [
    "def merge_dfs(dfs):\n",
    "    # merging 1 df is from bottom to top, meaning top values are more important than those with higher index\n",
    "    acc = {}\n",
    "    for i, df in enumerate(dfs):\n",
    "        for date, series in df.iterrows():\n",
    "            if date not in acc:\n",
    "                acc[date] = {}\n",
    "            for index, row in series.iloc[::-1].items():\n",
    "                acc[date][index] = row\n",
    "    return pd.DataFrame(acc), acc"
   ],
   "metadata": {
    "collapsed": false,
    "ExecuteTime": {
     "end_time": "2024-12-01T20:57:02.520483Z",
     "start_time": "2024-12-01T20:57:02.513659Z"
    }
   },
   "id": "9a9d7a4a444c2d96",
   "execution_count": 8
  },
  {
   "cell_type": "code",
   "outputs": [],
   "source": [
    "# df = debugBefore[0].copy()\n",
    "# cleanup_df(df)\n",
    "# # cleanup_df(test)\n",
    "# debugBefore[69]\n",
    "# TODO: Tesla has Total Revenue -> all sales, but has Revenue -> sales of 1 segment!\n",
    "# TODO: ATVI Cost of revenues -> false, Total costs and expenses true\n",
    "# TODO: CHECK AMG\n",
    "# acc['Dec. 31, 2021']"
   ],
   "metadata": {
    "collapsed": false,
    "ExecuteTime": {
     "end_time": "2024-12-01T20:57:02.527881Z",
     "start_time": "2024-12-01T20:57:02.523724Z"
    }
   },
   "id": "9e7bc1244d1080c0",
   "execution_count": 9
  },
  {
   "cell_type": "code",
   "outputs": [
    {
     "name": "stdout",
     "output_type": "stream",
     "text": [
      "https://www.sec.gov/cgi-bin/browse-edgar?action=getcompany&CIK=FITB&type=10-K&dateb=&owner=exclude&count=100\n",
      "FITB\n",
      "15\n",
      "done one\n",
      "done one\n",
      "done one\n",
      "done one\n",
      "done one\n",
      "done one\n",
      "done one\n",
      "done one\n",
      "done one\n",
      "done one\n",
      "done one\n",
      "done one\n",
      "done one\n",
      "done one\n",
      "done one\n",
      "https://www.sec.gov/cgi-bin/browse-edgar?action=getcompany&CIK=FE&type=10-K&dateb=&owner=exclude&count=100\n",
      "FE\n",
      "16\n",
      "done one\n",
      "done one\n",
      "done one\n",
      "done one\n",
      "done one\n",
      "done one\n",
      "done one\n",
      "done one\n",
      "done one\n",
      "done one\n",
      "done one\n",
      "done one\n",
      "done one\n",
      "done one\n",
      "done one\n",
      "done one\n",
      "https://www.sec.gov/cgi-bin/browse-edgar?action=getcompany&CIK=FISV&type=10-K&dateb=&owner=exclude&count=100\n",
      "FISV\n",
      "15\n",
      "done one\n",
      "done one\n",
      "done one\n",
      "done one\n",
      "done one\n",
      "done one\n",
      "done one\n",
      "done one\n",
      "done one\n",
      "done one\n",
      "done one\n",
      "done one\n",
      "done one\n",
      "done one\n",
      "done one\n",
      "https://www.sec.gov/cgi-bin/browse-edgar?action=getcompany&CIK=FLIR&type=10-K&dateb=&owner=exclude&count=100\n",
      "FLIR\n",
      "0\n",
      "https://www.sec.gov/cgi-bin/browse-edgar?action=getcompany&CIK=FLS&type=10-K&dateb=&owner=exclude&count=100\n",
      "FLS\n",
      "16\n",
      "done one\n",
      "done one\n",
      "done one\n",
      "done one\n",
      "done one\n",
      "done one\n",
      "done one\n",
      "done one\n",
      "done one\n",
      "done one\n",
      "done one\n",
      "done one\n",
      "done one\n",
      "done one\n",
      "done one\n",
      "done one\n",
      "https://www.sec.gov/cgi-bin/browse-edgar?action=getcompany&CIK=FLR&type=10-K&dateb=&owner=exclude&count=100\n",
      "FLR\n",
      "16\n",
      "done one\n",
      "done one\n",
      "done one\n",
      "done one\n",
      "No financial statements found\n",
      "No sections found - SKIPPING!!!!!!\n",
      "done one\n",
      "done one\n",
      "done one\n",
      "done one\n",
      "done one\n",
      "done one\n",
      "done one\n",
      "done one\n",
      "done one\n",
      "done one\n",
      "done one\n",
      "https://www.sec.gov/cgi-bin/browse-edgar?action=getcompany&CIK=FMC&type=10-K&dateb=&owner=exclude&count=100\n",
      "FMC\n",
      "15\n",
      "done one\n",
      "done one\n",
      "done one\n",
      "done one\n",
      "done one\n",
      "done one\n",
      "done one\n",
      "done one\n",
      "done one\n",
      "done one\n",
      "done one\n",
      "done one\n",
      "done one\n",
      "done one\n",
      "done one\n",
      "https://www.sec.gov/cgi-bin/browse-edgar?action=getcompany&CIK=FL&type=10-K&dateb=&owner=exclude&count=100\n",
      "FL\n",
      "14\n",
      "done one\n",
      "done one\n",
      "done one\n",
      "done one\n",
      "done one\n",
      "done one\n",
      "done one\n",
      "done one\n",
      "done one\n",
      "done one\n",
      "done one\n",
      "done one\n",
      "done one\n",
      "done one\n",
      "https://www.sec.gov/cgi-bin/browse-edgar?action=getcompany&CIK=F&type=10-K&dateb=&owner=exclude&count=100\n",
      "F\n"
     ]
    },
    {
     "ename": "KeyboardInterrupt",
     "evalue": "",
     "output_type": "error",
     "traceback": [
      "\u001B[1;31m---------------------------------------------------------------------------\u001B[0m",
      "\u001B[1;31mKeyboardInterrupt\u001B[0m                         Traceback (most recent call last)",
      "Cell \u001B[1;32mIn[10], line 16\u001B[0m\n\u001B[0;32m     14\u001B[0m \u001B[38;5;28mprint\u001B[39m(url)\n\u001B[0;32m     15\u001B[0m \u001B[38;5;28mprint\u001B[39m(ticker)\n\u001B[1;32m---> 16\u001B[0m \u001B[43mdriver\u001B[49m\u001B[38;5;241;43m.\u001B[39;49m\u001B[43mget\u001B[49m\u001B[43m(\u001B[49m\u001B[43murl\u001B[49m\u001B[43m)\u001B[49m\n\u001B[0;32m     17\u001B[0m sleep(\u001B[38;5;241m1\u001B[39m)\n\u001B[0;32m     18\u001B[0m dfs \u001B[38;5;241m=\u001B[39m use_search_page(driver, ticker)\n",
      "File \u001B[1;32mF:\\programowanie\\studia\\magisterka\\sec_scrapper2\\scientificProject\\.venv\\Lib\\site-packages\\selenium\\webdriver\\remote\\webdriver.py:356\u001B[0m, in \u001B[0;36mWebDriver.get\u001B[1;34m(self, url)\u001B[0m\n\u001B[0;32m    354\u001B[0m \u001B[38;5;28;01mdef\u001B[39;00m \u001B[38;5;21mget\u001B[39m(\u001B[38;5;28mself\u001B[39m, url: \u001B[38;5;28mstr\u001B[39m) \u001B[38;5;241m-\u001B[39m\u001B[38;5;241m>\u001B[39m \u001B[38;5;28;01mNone\u001B[39;00m:\n\u001B[0;32m    355\u001B[0m \u001B[38;5;250m    \u001B[39m\u001B[38;5;124;03m\"\"\"Loads a web page in the current browser session.\"\"\"\u001B[39;00m\n\u001B[1;32m--> 356\u001B[0m     \u001B[38;5;28;43mself\u001B[39;49m\u001B[38;5;241;43m.\u001B[39;49m\u001B[43mexecute\u001B[49m\u001B[43m(\u001B[49m\u001B[43mCommand\u001B[49m\u001B[38;5;241;43m.\u001B[39;49m\u001B[43mGET\u001B[49m\u001B[43m,\u001B[49m\u001B[43m \u001B[49m\u001B[43m{\u001B[49m\u001B[38;5;124;43m\"\u001B[39;49m\u001B[38;5;124;43murl\u001B[39;49m\u001B[38;5;124;43m\"\u001B[39;49m\u001B[43m:\u001B[49m\u001B[43m \u001B[49m\u001B[43murl\u001B[49m\u001B[43m}\u001B[49m\u001B[43m)\u001B[49m\n",
      "File \u001B[1;32mF:\\programowanie\\studia\\magisterka\\sec_scrapper2\\scientificProject\\.venv\\Lib\\site-packages\\selenium\\webdriver\\remote\\webdriver.py:345\u001B[0m, in \u001B[0;36mWebDriver.execute\u001B[1;34m(self, driver_command, params)\u001B[0m\n\u001B[0;32m    342\u001B[0m     \u001B[38;5;28;01melif\u001B[39;00m \u001B[38;5;124m\"\u001B[39m\u001B[38;5;124msessionId\u001B[39m\u001B[38;5;124m\"\u001B[39m \u001B[38;5;129;01mnot\u001B[39;00m \u001B[38;5;129;01min\u001B[39;00m params:\n\u001B[0;32m    343\u001B[0m         params[\u001B[38;5;124m\"\u001B[39m\u001B[38;5;124msessionId\u001B[39m\u001B[38;5;124m\"\u001B[39m] \u001B[38;5;241m=\u001B[39m \u001B[38;5;28mself\u001B[39m\u001B[38;5;241m.\u001B[39msession_id\n\u001B[1;32m--> 345\u001B[0m response \u001B[38;5;241m=\u001B[39m \u001B[38;5;28;43mself\u001B[39;49m\u001B[38;5;241;43m.\u001B[39;49m\u001B[43mcommand_executor\u001B[49m\u001B[38;5;241;43m.\u001B[39;49m\u001B[43mexecute\u001B[49m\u001B[43m(\u001B[49m\u001B[43mdriver_command\u001B[49m\u001B[43m,\u001B[49m\u001B[43m \u001B[49m\u001B[43mparams\u001B[49m\u001B[43m)\u001B[49m\n\u001B[0;32m    346\u001B[0m \u001B[38;5;28;01mif\u001B[39;00m response:\n\u001B[0;32m    347\u001B[0m     \u001B[38;5;28mself\u001B[39m\u001B[38;5;241m.\u001B[39merror_handler\u001B[38;5;241m.\u001B[39mcheck_response(response)\n",
      "File \u001B[1;32mF:\\programowanie\\studia\\magisterka\\sec_scrapper2\\scientificProject\\.venv\\Lib\\site-packages\\selenium\\webdriver\\remote\\remote_connection.py:302\u001B[0m, in \u001B[0;36mRemoteConnection.execute\u001B[1;34m(self, command, params)\u001B[0m\n\u001B[0;32m    300\u001B[0m trimmed \u001B[38;5;241m=\u001B[39m \u001B[38;5;28mself\u001B[39m\u001B[38;5;241m.\u001B[39m_trim_large_entries(params)\n\u001B[0;32m    301\u001B[0m LOGGER\u001B[38;5;241m.\u001B[39mdebug(\u001B[38;5;124m\"\u001B[39m\u001B[38;5;132;01m%s\u001B[39;00m\u001B[38;5;124m \u001B[39m\u001B[38;5;132;01m%s\u001B[39;00m\u001B[38;5;124m \u001B[39m\u001B[38;5;132;01m%s\u001B[39;00m\u001B[38;5;124m\"\u001B[39m, command_info[\u001B[38;5;241m0\u001B[39m], url, \u001B[38;5;28mstr\u001B[39m(trimmed))\n\u001B[1;32m--> 302\u001B[0m \u001B[38;5;28;01mreturn\u001B[39;00m \u001B[38;5;28;43mself\u001B[39;49m\u001B[38;5;241;43m.\u001B[39;49m\u001B[43m_request\u001B[49m\u001B[43m(\u001B[49m\u001B[43mcommand_info\u001B[49m\u001B[43m[\u001B[49m\u001B[38;5;241;43m0\u001B[39;49m\u001B[43m]\u001B[49m\u001B[43m,\u001B[49m\u001B[43m \u001B[49m\u001B[43murl\u001B[49m\u001B[43m,\u001B[49m\u001B[43m \u001B[49m\u001B[43mbody\u001B[49m\u001B[38;5;241;43m=\u001B[39;49m\u001B[43mdata\u001B[49m\u001B[43m)\u001B[49m\n",
      "File \u001B[1;32mF:\\programowanie\\studia\\magisterka\\sec_scrapper2\\scientificProject\\.venv\\Lib\\site-packages\\selenium\\webdriver\\remote\\remote_connection.py:322\u001B[0m, in \u001B[0;36mRemoteConnection._request\u001B[1;34m(self, method, url, body)\u001B[0m\n\u001B[0;32m    319\u001B[0m     body \u001B[38;5;241m=\u001B[39m \u001B[38;5;28;01mNone\u001B[39;00m\n\u001B[0;32m    321\u001B[0m \u001B[38;5;28;01mif\u001B[39;00m \u001B[38;5;28mself\u001B[39m\u001B[38;5;241m.\u001B[39mkeep_alive:\n\u001B[1;32m--> 322\u001B[0m     response \u001B[38;5;241m=\u001B[39m \u001B[38;5;28;43mself\u001B[39;49m\u001B[38;5;241;43m.\u001B[39;49m\u001B[43m_conn\u001B[49m\u001B[38;5;241;43m.\u001B[39;49m\u001B[43mrequest\u001B[49m\u001B[43m(\u001B[49m\u001B[43mmethod\u001B[49m\u001B[43m,\u001B[49m\u001B[43m \u001B[49m\u001B[43murl\u001B[49m\u001B[43m,\u001B[49m\u001B[43m \u001B[49m\u001B[43mbody\u001B[49m\u001B[38;5;241;43m=\u001B[39;49m\u001B[43mbody\u001B[49m\u001B[43m,\u001B[49m\u001B[43m \u001B[49m\u001B[43mheaders\u001B[49m\u001B[38;5;241;43m=\u001B[39;49m\u001B[43mheaders\u001B[49m\u001B[43m)\u001B[49m\n\u001B[0;32m    323\u001B[0m     statuscode \u001B[38;5;241m=\u001B[39m response\u001B[38;5;241m.\u001B[39mstatus\n\u001B[0;32m    324\u001B[0m \u001B[38;5;28;01melse\u001B[39;00m:\n",
      "File \u001B[1;32mF:\\programowanie\\studia\\magisterka\\sec_scrapper2\\scientificProject\\.venv\\Lib\\site-packages\\urllib3\\_request_methods.py:144\u001B[0m, in \u001B[0;36mRequestMethods.request\u001B[1;34m(self, method, url, body, fields, headers, json, **urlopen_kw)\u001B[0m\n\u001B[0;32m    136\u001B[0m     \u001B[38;5;28;01mreturn\u001B[39;00m \u001B[38;5;28mself\u001B[39m\u001B[38;5;241m.\u001B[39mrequest_encode_url(\n\u001B[0;32m    137\u001B[0m         method,\n\u001B[0;32m    138\u001B[0m         url,\n\u001B[1;32m   (...)\u001B[0m\n\u001B[0;32m    141\u001B[0m         \u001B[38;5;241m*\u001B[39m\u001B[38;5;241m*\u001B[39murlopen_kw,\n\u001B[0;32m    142\u001B[0m     )\n\u001B[0;32m    143\u001B[0m \u001B[38;5;28;01melse\u001B[39;00m:\n\u001B[1;32m--> 144\u001B[0m     \u001B[38;5;28;01mreturn\u001B[39;00m \u001B[38;5;28;43mself\u001B[39;49m\u001B[38;5;241;43m.\u001B[39;49m\u001B[43mrequest_encode_body\u001B[49m\u001B[43m(\u001B[49m\n\u001B[0;32m    145\u001B[0m \u001B[43m        \u001B[49m\u001B[43mmethod\u001B[49m\u001B[43m,\u001B[49m\u001B[43m \u001B[49m\u001B[43murl\u001B[49m\u001B[43m,\u001B[49m\u001B[43m \u001B[49m\u001B[43mfields\u001B[49m\u001B[38;5;241;43m=\u001B[39;49m\u001B[43mfields\u001B[49m\u001B[43m,\u001B[49m\u001B[43m \u001B[49m\u001B[43mheaders\u001B[49m\u001B[38;5;241;43m=\u001B[39;49m\u001B[43mheaders\u001B[49m\u001B[43m,\u001B[49m\u001B[43m \u001B[49m\u001B[38;5;241;43m*\u001B[39;49m\u001B[38;5;241;43m*\u001B[39;49m\u001B[43murlopen_kw\u001B[49m\n\u001B[0;32m    146\u001B[0m \u001B[43m    \u001B[49m\u001B[43m)\u001B[49m\n",
      "File \u001B[1;32mF:\\programowanie\\studia\\magisterka\\sec_scrapper2\\scientificProject\\.venv\\Lib\\site-packages\\urllib3\\_request_methods.py:279\u001B[0m, in \u001B[0;36mRequestMethods.request_encode_body\u001B[1;34m(self, method, url, fields, headers, encode_multipart, multipart_boundary, **urlopen_kw)\u001B[0m\n\u001B[0;32m    275\u001B[0m     extra_kw[\u001B[38;5;124m\"\u001B[39m\u001B[38;5;124mheaders\u001B[39m\u001B[38;5;124m\"\u001B[39m]\u001B[38;5;241m.\u001B[39msetdefault(\u001B[38;5;124m\"\u001B[39m\u001B[38;5;124mContent-Type\u001B[39m\u001B[38;5;124m\"\u001B[39m, content_type)\n\u001B[0;32m    277\u001B[0m extra_kw\u001B[38;5;241m.\u001B[39mupdate(urlopen_kw)\n\u001B[1;32m--> 279\u001B[0m \u001B[38;5;28;01mreturn\u001B[39;00m \u001B[38;5;28;43mself\u001B[39;49m\u001B[38;5;241;43m.\u001B[39;49m\u001B[43murlopen\u001B[49m\u001B[43m(\u001B[49m\u001B[43mmethod\u001B[49m\u001B[43m,\u001B[49m\u001B[43m \u001B[49m\u001B[43murl\u001B[49m\u001B[43m,\u001B[49m\u001B[43m \u001B[49m\u001B[38;5;241;43m*\u001B[39;49m\u001B[38;5;241;43m*\u001B[39;49m\u001B[43mextra_kw\u001B[49m\u001B[43m)\u001B[49m\n",
      "File \u001B[1;32mF:\\programowanie\\studia\\magisterka\\sec_scrapper2\\scientificProject\\.venv\\Lib\\site-packages\\urllib3\\poolmanager.py:444\u001B[0m, in \u001B[0;36mPoolManager.urlopen\u001B[1;34m(self, method, url, redirect, **kw)\u001B[0m\n\u001B[0;32m    442\u001B[0m     response \u001B[38;5;241m=\u001B[39m conn\u001B[38;5;241m.\u001B[39murlopen(method, url, \u001B[38;5;241m*\u001B[39m\u001B[38;5;241m*\u001B[39mkw)\n\u001B[0;32m    443\u001B[0m \u001B[38;5;28;01melse\u001B[39;00m:\n\u001B[1;32m--> 444\u001B[0m     response \u001B[38;5;241m=\u001B[39m \u001B[43mconn\u001B[49m\u001B[38;5;241;43m.\u001B[39;49m\u001B[43murlopen\u001B[49m\u001B[43m(\u001B[49m\u001B[43mmethod\u001B[49m\u001B[43m,\u001B[49m\u001B[43m \u001B[49m\u001B[43mu\u001B[49m\u001B[38;5;241;43m.\u001B[39;49m\u001B[43mrequest_uri\u001B[49m\u001B[43m,\u001B[49m\u001B[43m \u001B[49m\u001B[38;5;241;43m*\u001B[39;49m\u001B[38;5;241;43m*\u001B[39;49m\u001B[43mkw\u001B[49m\u001B[43m)\u001B[49m\n\u001B[0;32m    446\u001B[0m redirect_location \u001B[38;5;241m=\u001B[39m redirect \u001B[38;5;129;01mand\u001B[39;00m response\u001B[38;5;241m.\u001B[39mget_redirect_location()\n\u001B[0;32m    447\u001B[0m \u001B[38;5;28;01mif\u001B[39;00m \u001B[38;5;129;01mnot\u001B[39;00m redirect_location:\n",
      "File \u001B[1;32mF:\\programowanie\\studia\\magisterka\\sec_scrapper2\\scientificProject\\.venv\\Lib\\site-packages\\urllib3\\connectionpool.py:793\u001B[0m, in \u001B[0;36mHTTPConnectionPool.urlopen\u001B[1;34m(self, method, url, body, headers, retries, redirect, assert_same_host, timeout, pool_timeout, release_conn, chunked, body_pos, preload_content, decode_content, **response_kw)\u001B[0m\n\u001B[0;32m    790\u001B[0m response_conn \u001B[38;5;241m=\u001B[39m conn \u001B[38;5;28;01mif\u001B[39;00m \u001B[38;5;129;01mnot\u001B[39;00m release_conn \u001B[38;5;28;01melse\u001B[39;00m \u001B[38;5;28;01mNone\u001B[39;00m\n\u001B[0;32m    792\u001B[0m \u001B[38;5;66;03m# Make the request on the HTTPConnection object\u001B[39;00m\n\u001B[1;32m--> 793\u001B[0m response \u001B[38;5;241m=\u001B[39m \u001B[38;5;28;43mself\u001B[39;49m\u001B[38;5;241;43m.\u001B[39;49m\u001B[43m_make_request\u001B[49m\u001B[43m(\u001B[49m\n\u001B[0;32m    794\u001B[0m \u001B[43m    \u001B[49m\u001B[43mconn\u001B[49m\u001B[43m,\u001B[49m\n\u001B[0;32m    795\u001B[0m \u001B[43m    \u001B[49m\u001B[43mmethod\u001B[49m\u001B[43m,\u001B[49m\n\u001B[0;32m    796\u001B[0m \u001B[43m    \u001B[49m\u001B[43murl\u001B[49m\u001B[43m,\u001B[49m\n\u001B[0;32m    797\u001B[0m \u001B[43m    \u001B[49m\u001B[43mtimeout\u001B[49m\u001B[38;5;241;43m=\u001B[39;49m\u001B[43mtimeout_obj\u001B[49m\u001B[43m,\u001B[49m\n\u001B[0;32m    798\u001B[0m \u001B[43m    \u001B[49m\u001B[43mbody\u001B[49m\u001B[38;5;241;43m=\u001B[39;49m\u001B[43mbody\u001B[49m\u001B[43m,\u001B[49m\n\u001B[0;32m    799\u001B[0m \u001B[43m    \u001B[49m\u001B[43mheaders\u001B[49m\u001B[38;5;241;43m=\u001B[39;49m\u001B[43mheaders\u001B[49m\u001B[43m,\u001B[49m\n\u001B[0;32m    800\u001B[0m \u001B[43m    \u001B[49m\u001B[43mchunked\u001B[49m\u001B[38;5;241;43m=\u001B[39;49m\u001B[43mchunked\u001B[49m\u001B[43m,\u001B[49m\n\u001B[0;32m    801\u001B[0m \u001B[43m    \u001B[49m\u001B[43mretries\u001B[49m\u001B[38;5;241;43m=\u001B[39;49m\u001B[43mretries\u001B[49m\u001B[43m,\u001B[49m\n\u001B[0;32m    802\u001B[0m \u001B[43m    \u001B[49m\u001B[43mresponse_conn\u001B[49m\u001B[38;5;241;43m=\u001B[39;49m\u001B[43mresponse_conn\u001B[49m\u001B[43m,\u001B[49m\n\u001B[0;32m    803\u001B[0m \u001B[43m    \u001B[49m\u001B[43mpreload_content\u001B[49m\u001B[38;5;241;43m=\u001B[39;49m\u001B[43mpreload_content\u001B[49m\u001B[43m,\u001B[49m\n\u001B[0;32m    804\u001B[0m \u001B[43m    \u001B[49m\u001B[43mdecode_content\u001B[49m\u001B[38;5;241;43m=\u001B[39;49m\u001B[43mdecode_content\u001B[49m\u001B[43m,\u001B[49m\n\u001B[0;32m    805\u001B[0m \u001B[43m    \u001B[49m\u001B[38;5;241;43m*\u001B[39;49m\u001B[38;5;241;43m*\u001B[39;49m\u001B[43mresponse_kw\u001B[49m\u001B[43m,\u001B[49m\n\u001B[0;32m    806\u001B[0m \u001B[43m\u001B[49m\u001B[43m)\u001B[49m\n\u001B[0;32m    808\u001B[0m \u001B[38;5;66;03m# Everything went great!\u001B[39;00m\n\u001B[0;32m    809\u001B[0m clean_exit \u001B[38;5;241m=\u001B[39m \u001B[38;5;28;01mTrue\u001B[39;00m\n",
      "File \u001B[1;32mF:\\programowanie\\studia\\magisterka\\sec_scrapper2\\scientificProject\\.venv\\Lib\\site-packages\\urllib3\\connectionpool.py:537\u001B[0m, in \u001B[0;36mHTTPConnectionPool._make_request\u001B[1;34m(self, conn, method, url, body, headers, retries, timeout, chunked, response_conn, preload_content, decode_content, enforce_content_length)\u001B[0m\n\u001B[0;32m    535\u001B[0m \u001B[38;5;66;03m# Receive the response from the server\u001B[39;00m\n\u001B[0;32m    536\u001B[0m \u001B[38;5;28;01mtry\u001B[39;00m:\n\u001B[1;32m--> 537\u001B[0m     response \u001B[38;5;241m=\u001B[39m \u001B[43mconn\u001B[49m\u001B[38;5;241;43m.\u001B[39;49m\u001B[43mgetresponse\u001B[49m\u001B[43m(\u001B[49m\u001B[43m)\u001B[49m\n\u001B[0;32m    538\u001B[0m \u001B[38;5;28;01mexcept\u001B[39;00m (BaseSSLError, \u001B[38;5;167;01mOSError\u001B[39;00m) \u001B[38;5;28;01mas\u001B[39;00m e:\n\u001B[0;32m    539\u001B[0m     \u001B[38;5;28mself\u001B[39m\u001B[38;5;241m.\u001B[39m_raise_timeout(err\u001B[38;5;241m=\u001B[39me, url\u001B[38;5;241m=\u001B[39murl, timeout_value\u001B[38;5;241m=\u001B[39mread_timeout)\n",
      "File \u001B[1;32mF:\\programowanie\\studia\\magisterka\\sec_scrapper2\\scientificProject\\.venv\\Lib\\site-packages\\urllib3\\connection.py:466\u001B[0m, in \u001B[0;36mHTTPConnection.getresponse\u001B[1;34m(self)\u001B[0m\n\u001B[0;32m    463\u001B[0m \u001B[38;5;28;01mfrom\u001B[39;00m \u001B[38;5;21;01m.\u001B[39;00m\u001B[38;5;21;01mresponse\u001B[39;00m \u001B[38;5;28;01mimport\u001B[39;00m HTTPResponse\n\u001B[0;32m    465\u001B[0m \u001B[38;5;66;03m# Get the response from http.client.HTTPConnection\u001B[39;00m\n\u001B[1;32m--> 466\u001B[0m httplib_response \u001B[38;5;241m=\u001B[39m \u001B[38;5;28;43msuper\u001B[39;49m\u001B[43m(\u001B[49m\u001B[43m)\u001B[49m\u001B[38;5;241;43m.\u001B[39;49m\u001B[43mgetresponse\u001B[49m\u001B[43m(\u001B[49m\u001B[43m)\u001B[49m\n\u001B[0;32m    468\u001B[0m \u001B[38;5;28;01mtry\u001B[39;00m:\n\u001B[0;32m    469\u001B[0m     assert_header_parsing(httplib_response\u001B[38;5;241m.\u001B[39mmsg)\n",
      "File \u001B[1;32m~\\AppData\\Local\\Programs\\Python\\Python312\\Lib\\http\\client.py:1411\u001B[0m, in \u001B[0;36mHTTPConnection.getresponse\u001B[1;34m(self)\u001B[0m\n\u001B[0;32m   1409\u001B[0m \u001B[38;5;28;01mtry\u001B[39;00m:\n\u001B[0;32m   1410\u001B[0m     \u001B[38;5;28;01mtry\u001B[39;00m:\n\u001B[1;32m-> 1411\u001B[0m         \u001B[43mresponse\u001B[49m\u001B[38;5;241;43m.\u001B[39;49m\u001B[43mbegin\u001B[49m\u001B[43m(\u001B[49m\u001B[43m)\u001B[49m\n\u001B[0;32m   1412\u001B[0m     \u001B[38;5;28;01mexcept\u001B[39;00m \u001B[38;5;167;01mConnectionError\u001B[39;00m:\n\u001B[0;32m   1413\u001B[0m         \u001B[38;5;28mself\u001B[39m\u001B[38;5;241m.\u001B[39mclose()\n",
      "File \u001B[1;32m~\\AppData\\Local\\Programs\\Python\\Python312\\Lib\\http\\client.py:324\u001B[0m, in \u001B[0;36mHTTPResponse.begin\u001B[1;34m(self)\u001B[0m\n\u001B[0;32m    322\u001B[0m \u001B[38;5;66;03m# read until we get a non-100 response\u001B[39;00m\n\u001B[0;32m    323\u001B[0m \u001B[38;5;28;01mwhile\u001B[39;00m \u001B[38;5;28;01mTrue\u001B[39;00m:\n\u001B[1;32m--> 324\u001B[0m     version, status, reason \u001B[38;5;241m=\u001B[39m \u001B[38;5;28;43mself\u001B[39;49m\u001B[38;5;241;43m.\u001B[39;49m\u001B[43m_read_status\u001B[49m\u001B[43m(\u001B[49m\u001B[43m)\u001B[49m\n\u001B[0;32m    325\u001B[0m     \u001B[38;5;28;01mif\u001B[39;00m status \u001B[38;5;241m!=\u001B[39m CONTINUE:\n\u001B[0;32m    326\u001B[0m         \u001B[38;5;28;01mbreak\u001B[39;00m\n",
      "File \u001B[1;32m~\\AppData\\Local\\Programs\\Python\\Python312\\Lib\\http\\client.py:285\u001B[0m, in \u001B[0;36mHTTPResponse._read_status\u001B[1;34m(self)\u001B[0m\n\u001B[0;32m    284\u001B[0m \u001B[38;5;28;01mdef\u001B[39;00m \u001B[38;5;21m_read_status\u001B[39m(\u001B[38;5;28mself\u001B[39m):\n\u001B[1;32m--> 285\u001B[0m     line \u001B[38;5;241m=\u001B[39m \u001B[38;5;28mstr\u001B[39m(\u001B[38;5;28;43mself\u001B[39;49m\u001B[38;5;241;43m.\u001B[39;49m\u001B[43mfp\u001B[49m\u001B[38;5;241;43m.\u001B[39;49m\u001B[43mreadline\u001B[49m\u001B[43m(\u001B[49m\u001B[43m_MAXLINE\u001B[49m\u001B[43m \u001B[49m\u001B[38;5;241;43m+\u001B[39;49m\u001B[43m \u001B[49m\u001B[38;5;241;43m1\u001B[39;49m\u001B[43m)\u001B[49m, \u001B[38;5;124m\"\u001B[39m\u001B[38;5;124miso-8859-1\u001B[39m\u001B[38;5;124m\"\u001B[39m)\n\u001B[0;32m    286\u001B[0m     \u001B[38;5;28;01mif\u001B[39;00m \u001B[38;5;28mlen\u001B[39m(line) \u001B[38;5;241m>\u001B[39m _MAXLINE:\n\u001B[0;32m    287\u001B[0m         \u001B[38;5;28;01mraise\u001B[39;00m LineTooLong(\u001B[38;5;124m\"\u001B[39m\u001B[38;5;124mstatus line\u001B[39m\u001B[38;5;124m\"\u001B[39m)\n",
      "File \u001B[1;32m~\\AppData\\Local\\Programs\\Python\\Python312\\Lib\\socket.py:707\u001B[0m, in \u001B[0;36mSocketIO.readinto\u001B[1;34m(self, b)\u001B[0m\n\u001B[0;32m    705\u001B[0m \u001B[38;5;28;01mwhile\u001B[39;00m \u001B[38;5;28;01mTrue\u001B[39;00m:\n\u001B[0;32m    706\u001B[0m     \u001B[38;5;28;01mtry\u001B[39;00m:\n\u001B[1;32m--> 707\u001B[0m         \u001B[38;5;28;01mreturn\u001B[39;00m \u001B[38;5;28;43mself\u001B[39;49m\u001B[38;5;241;43m.\u001B[39;49m\u001B[43m_sock\u001B[49m\u001B[38;5;241;43m.\u001B[39;49m\u001B[43mrecv_into\u001B[49m\u001B[43m(\u001B[49m\u001B[43mb\u001B[49m\u001B[43m)\u001B[49m\n\u001B[0;32m    708\u001B[0m     \u001B[38;5;28;01mexcept\u001B[39;00m timeout:\n\u001B[0;32m    709\u001B[0m         \u001B[38;5;28mself\u001B[39m\u001B[38;5;241m.\u001B[39m_timeout_occurred \u001B[38;5;241m=\u001B[39m \u001B[38;5;28;01mTrue\u001B[39;00m\n",
      "\u001B[1;31mKeyboardInterrupt\u001B[0m: "
     ]
    }
   ],
   "source": [
    "driver = webdriver.Chrome()\n",
    "search_url = 'https://www.sec.gov/cgi-bin/browse-edgar?action=getcompany&CIK=$$$&type=10-K&dateb=&owner=exclude&count=100'\n",
    "# tickers = [\"AAPL\", 'MSFT', 'NVDA', 'GOOG', 'AMZN', 'META', 'AVGO', 'LLY', 'TSLA',]\n",
    "# tickers = [\"AAPL\", 'MSFT', 'NVDA', 'GOOG', 'AMZN', 'META', 'AVGO', 'LLY', 'TSLA', 'BRK-B',] \n",
    "# tickers = ['BRK-B']\n",
    "companies = {}\n",
    "# with open('sp500.csv', mode ='r')as file:\n",
    "with open('sp500-left2.csv', mode ='r')as file:\n",
    "  csvFile = csv.reader(file)\n",
    "  for line in csvFile:\n",
    "    ticker = line[0]\n",
    "# for ticker in tickers:\n",
    "    url = search_url.replace('$$$', ticker)\n",
    "    print(url)\n",
    "    print(ticker)\n",
    "    driver.get(url)\n",
    "    sleep(1)\n",
    "    dfs = use_search_page(driver, ticker)\n",
    "    # 27.10\n",
    "    # debugDfs = [df.copy() for df in dfs]\n",
    "    # resultDf, acc = merge_dfs(dfs)\n",
    "    # resultDf.to_csv(ticker + \".csv\")\n",
    "\n",
    "print(\"SAVED TO CSV\")\n"
   ],
   "metadata": {
    "collapsed": false,
    "ExecuteTime": {
     "end_time": "2024-12-01T21:41:42.508980Z",
     "start_time": "2024-12-01T20:57:02.529997Z"
    }
   },
   "id": "3e09758760b97664",
   "execution_count": 10
  }
 ],
 "metadata": {
  "kernelspec": {
   "display_name": "Python 3 (ipykernel)",
   "language": "python",
   "name": "python3"
  },
  "language_info": {
   "codemirror_mode": {
    "name": "ipython",
    "version": 3
   },
   "file_extension": ".py",
   "mimetype": "text/x-python",
   "name": "python",
   "nbconvert_exporter": "python",
   "pygments_lexer": "ipython3",
   "version": "3.12.0"
  }
 },
 "nbformat": 4,
 "nbformat_minor": 5
}
