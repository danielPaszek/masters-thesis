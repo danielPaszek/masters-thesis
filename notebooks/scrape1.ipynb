{
 "cells": [
  {
   "cell_type": "code",
   "execution_count": 139,
   "id": "initial_id",
   "metadata": {
    "collapsed": true,
    "jupyter": {
     "outputs_hidden": true
    },
    "ExecuteTime": {
     "end_time": "2024-07-12T19:13:09.839231Z",
     "start_time": "2024-07-12T19:13:09.835558Z"
    }
   },
   "outputs": [],
   "source": [
    "from selenium import webdriver\n",
    "from selenium.webdriver.common.by import By\n",
    "from time import sleep\n",
    "import pandas as pd\n",
    "import json\n",
    "import numpy as np\n",
    "import io\n",
    "from Web.browse_edgar import *\n",
    "import datetime"
   ]
  },
  {
   "cell_type": "markdown",
   "id": "6e877a097293dfc0",
   "metadata": {
    "collapsed": false
   },
   "source": [
    "https://www.sec.gov/ixviewer/ix.html?doc= (/Archives/edgar/data/320193/000162828017000717/a10-qq1201712312016.htm) is prefix for xlbr viewer :)\n"
   ]
  },
  {
   "cell_type": "markdown",
   "id": "e1512c83eaa7fec2",
   "metadata": {
    "collapsed": false
   },
   "source": [
    "# Trying sec website. not actual filings\n",
    "\n",
    "https://www.macrotrends.net/stocks/charts/META/meta-platforms/financial-statements\n",
    "go to all financial statements\n",
    "interactive data :)\n",
    "\n",
    "10-q - to co szukamy kwartalne\n",
    "10-k - to co szukamy roczne"
   ]
  },
  {
   "cell_type": "code",
   "execution_count": 140,
   "id": "ad01a6d6058fe8a5",
   "metadata": {
    "collapsed": false,
    "ExecuteTime": {
     "end_time": "2024-07-12T19:13:09.854340Z",
     "start_time": "2024-07-12T19:13:09.840240Z"
    }
   },
   "outputs": [],
   "source": [
    "def scrape_income_statement(driver):\n",
    "    # TODO: https://stackoverflow.com/questions/8474031/case-insensitive-xpath-contains-possible\n",
    "    table = open_income_statement(driver)\n",
    "    lines = []\n",
    "    for tr in table.find_elements(By.XPATH, \"./tr\"):\n",
    "        line = []\n",
    "        for th in tr.find_elements(By.XPATH, \"./th\") or []:\n",
    "            text = th.text.strip()\n",
    "            if text:\n",
    "                line.append(th.text)\n",
    "        for td in tr.find_elements(By.XPATH, \"./td\") or []:\n",
    "            text = td.text.strip()\n",
    "            if text:\n",
    "                line.append(td.text)\n",
    "        lines.append(line)\n",
    "        \n",
    "    title = lines.pop(0)\n",
    "    try:\n",
    "        date = pd.to_datetime(lines[0][0], format='%b. %d, %Y')\n",
    "        dates = lines.pop(0)\n",
    "    except:\n",
    "        dates = title[1:]\n",
    "        print('No date in second line')\n",
    "    \n",
    "    try:\n",
    "        lines = list(filter(lambda x: len(x) > 1, lines))\n",
    "        \n",
    "        lines = np.array(lines)\n",
    "        lines = np.char.replace(lines, '$', '')\n",
    "        np.char.strip(lines)\n",
    "        df = pd.DataFrame(lines, columns=['name', *dates])\n",
    "    except:\n",
    "        print(lines)\n",
    "        return None\n",
    "    return df.set_index('name')\n",
    "    # return df"
   ]
  },
  {
   "cell_type": "code",
   "outputs": [],
   "source": [
    "parsed_income_statements = []\n",
    "def income_statement_to_df(driver):\n",
    "    table = open_income_statement(driver)\n",
    "    f = io.StringIO('<table>' + table.get_attribute('innerHTML') + '</table>')\n",
    "    dfs = pd.read_html(f)\n",
    "    parsed_income_statements.append(dfs)\n",
    "    return dfs[0]"
   ],
   "metadata": {
    "collapsed": false,
    "ExecuteTime": {
     "end_time": "2024-07-12T19:13:09.863339Z",
     "start_time": "2024-07-12T19:13:09.856433Z"
    }
   },
   "id": "486ba1d97a2eba71",
   "execution_count": 141
  },
  {
   "cell_type": "code",
   "outputs": [],
   "source": [
    "def cleanup_df(df):\n",
    "    # remove multiIndex\n",
    "    df.to_csv('df.csv')\n",
    "    with open('df.csv', \"r+\") as f:\n",
    "        d = f.readlines()\n",
    "        f.seek(0)\n",
    "        for i, line in enumerate(d):\n",
    "            if i != 0:\n",
    "                f.write(line)\n",
    "        f.truncate()\n",
    "    df = pd.read_csv('df.csv')\n",
    "    df = df.drop(df.columns[0], axis=1)\n",
    "    # not sure \n",
    "    df = df.dropna()\n",
    "    \n",
    "    df = df.rename(columns={df.columns[0]: 'date'})\n",
    "    df = df.set_index(df.columns[0])\n",
    "    df = df.map(lambda x: x.replace('$', '').replace(',', '') if isinstance(x, str) and '$' in x else x)\n",
    "    df = df.transpose()\n",
    "    \n",
    "    return df"
   ],
   "metadata": {
    "collapsed": false,
    "ExecuteTime": {
     "end_time": "2024-07-12T19:13:09.872427Z",
     "start_time": "2024-07-12T19:13:09.865461Z"
    }
   },
   "id": "723edb951daf3e27",
   "execution_count": 142
  },
  {
   "cell_type": "code",
   "outputs": [],
   "source": [
    "def use_search_page(driver):\n",
    "    buttons = driver.find_elements(By.XPATH, \"//a[contains(text(), 'Interactive Data')]\")\n",
    "    dfs = []\n",
    "    print(len(buttons))\n",
    "    for i in range(len(buttons)):\n",
    "        # try:\n",
    "            new_buttons = driver.find_elements(By.XPATH, \"//a[contains(text(), 'Interactive Data')]\")\n",
    "            new_buttons[i].click()\n",
    "            sleep(2)\n",
    "            open_sections(driver)\n",
    "            df = income_statement_to_df(driver)\n",
    "            df = cleanup_df(df)   \n",
    "            dfs.append(df)\n",
    "            driver.execute_script(\"window.history.go(-1)\")\n",
    "            driver.execute_script(\"window.history.go(-1)\")\n",
    "            print(\"done one\")\n",
    "            sleep(2)\n",
    "        # except:\n",
    "        #     continue\n",
    "    return dfs"
   ],
   "metadata": {
    "collapsed": false,
    "ExecuteTime": {
     "end_time": "2024-07-12T19:13:09.881027Z",
     "start_time": "2024-07-12T19:13:09.874653Z"
    }
   },
   "id": "90446325ce3b496",
   "execution_count": 143
  },
  {
   "cell_type": "code",
   "outputs": [],
   "source": [
    "def merge_dfs(dfs):\n",
    "    acc = {}\n",
    "    for i, df in enumerate(dfs):\n",
    "        for row in df.iterrows():\n",
    "            acc[row[0]] = row[1].to_dict()\n",
    "    return pd.DataFrame(acc)"
   ],
   "metadata": {
    "collapsed": false,
    "ExecuteTime": {
     "end_time": "2024-07-12T19:13:09.887345Z",
     "start_time": "2024-07-12T19:13:09.882133Z"
    }
   },
   "id": "9a9d7a4a444c2d96",
   "execution_count": 144
  },
  {
   "cell_type": "code",
   "outputs": [],
   "source": [
    "lastDf = None"
   ],
   "metadata": {
    "collapsed": false,
    "ExecuteTime": {
     "end_time": "2024-07-12T19:13:09.900455Z",
     "start_time": "2024-07-12T19:13:09.895311Z"
    }
   },
   "id": "9e7bc1244d1080c0",
   "execution_count": 145
  },
  {
   "cell_type": "code",
   "outputs": [
    {
     "name": "stdout",
     "output_type": "stream",
     "text": [
      "https://www.sec.gov/cgi-bin/browse-edgar?action=getcompany&CIK=AMZN&type=10-K&dateb=&owner=exclude&count=100\n",
      "15\n",
      "done clicking\n",
      "done one\n",
      "done clicking\n",
      "done one\n",
      "done clicking\n",
      "done one\n",
      "done clicking\n",
      "done one\n",
      "done clicking\n",
      "done one\n",
      "done clicking\n",
      "done one\n",
      "done clicking\n",
      "done one\n",
      "done clicking\n",
      "done one\n",
      "done clicking\n",
      "done one\n",
      "done clicking\n",
      "done one\n",
      "done clicking\n",
      "     0                                                  1\n",
      "0  [1]  Includes stock-based compensation as follows: ...\n",
      "                                                   0  \\\n",
      "0                                                [1]   \n",
      "1  Consolidated Statements Of Operations (USD $) ...   \n",
      "2  Consolidated Statements Of Operations (USD $) ...   \n",
      "3                                  Net product sales   \n",
      "4                                 Net services sales   \n",
      "\n",
      "                                                   1                2  \\\n",
      "0  Includes stock-based compensation as follows: ...              NaN   \n",
      "1                                    12 Months Ended  12 Months Ended   \n",
      "2                                      Dec. 31, 2013    Dec. 31, 2013   \n",
      "3                                           $ 60,903              NaN   \n",
      "4                                              13549              NaN   \n",
      "\n",
      "                 3                4                5                6  \n",
      "0              NaN              NaN              NaN              NaN  \n",
      "1  12 Months Ended  12 Months Ended  12 Months Ended  12 Months Ended  \n",
      "2    Dec. 31, 2012    Dec. 31, 2012    Dec. 31, 2011    Dec. 31, 2011  \n",
      "3         $ 51,733              NaN         $ 42,000              NaN  \n",
      "4             9360              NaN             6077              NaN  \n",
      "done one\n",
      "done clicking\n",
      "     0                                                  1\n",
      "0  [1]  Includes stock-based compensation as follows: ...\n",
      "                                                   0  \\\n",
      "0                                                [1]   \n",
      "1  CONSOLIDATED STATEMENTS OF OPERATIONS (USD $) ...   \n",
      "2  CONSOLIDATED STATEMENTS OF OPERATIONS (USD $) ...   \n",
      "3                                  Net product sales   \n",
      "4                                 Net services sales   \n",
      "\n",
      "                                                   1                2  \\\n",
      "0  Includes stock-based compensation as follows: ...              NaN   \n",
      "1                                    12 Months Ended  12 Months Ended   \n",
      "2                                      Dec. 31, 2012    Dec. 31, 2012   \n",
      "3                                           $ 51,733              NaN   \n",
      "4                                               9360              NaN   \n",
      "\n",
      "                 3                4                5                6  \n",
      "0              NaN              NaN              NaN              NaN  \n",
      "1  12 Months Ended  12 Months Ended  12 Months Ended  12 Months Ended  \n",
      "2    Dec. 31, 2011    Dec. 31, 2011    Dec. 31, 2010    Dec. 31, 2010  \n",
      "3         $ 42,000              NaN         $ 30,792              NaN  \n",
      "4             6077              NaN             3412              NaN  \n",
      "done one\n",
      "done clicking\n",
      "     0                                                  1\n",
      "0  [1]  Includes stock-based compensation as follows: ...\n",
      "                                                   0  \\\n",
      "0                                                [1]   \n",
      "1  CONSOLIDATED STATEMENTS OF OPERATIONS (USD $) ...   \n",
      "2  CONSOLIDATED STATEMENTS OF OPERATIONS (USD $) ...   \n",
      "3                                  Net product sales   \n",
      "4                                 Net services sales   \n",
      "\n",
      "                                                   1                2  \\\n",
      "0  Includes stock-based compensation as follows: ...              NaN   \n",
      "1                                    12 Months Ended  12 Months Ended   \n",
      "2                                      Dec. 31, 2011    Dec. 31, 2011   \n",
      "3                                           $ 42,000              NaN   \n",
      "4                                               6077              NaN   \n",
      "\n",
      "                 3                4                5                6  \n",
      "0              NaN              NaN              NaN              NaN  \n",
      "1  12 Months Ended  12 Months Ended  12 Months Ended  12 Months Ended  \n",
      "2    Dec. 31, 2010    Dec. 31, 2010    Dec. 31, 2009    Dec. 31, 2009  \n",
      "3         $ 30,792              NaN         $ 22,273              NaN  \n",
      "4             3412              NaN             2236              NaN  \n",
      "done one\n",
      "done clicking\n",
      "     0                                                  1\n",
      "0  [1]  Includes stock-based compensation as follows: ...\n",
      "                                                   0  \\\n",
      "0                                                [1]   \n",
      "1  CONSOLIDATED STATEMENTS OF OPERATIONS (USD $) ...   \n",
      "2  CONSOLIDATED STATEMENTS OF OPERATIONS (USD $) ...   \n",
      "3                                          Net sales   \n",
      "4                                Operating expenses:   \n",
      "\n",
      "                                                   1                2  \\\n",
      "0  Includes stock-based compensation as follows: ...              NaN   \n",
      "1                                    12 Months Ended  12 Months Ended   \n",
      "2                                      Dec. 31, 2010    Dec. 31, 2010   \n",
      "3                                           $ 34,204              NaN   \n",
      "4                                                NaN              NaN   \n",
      "\n",
      "                 3                4                5                6  \n",
      "0              NaN              NaN              NaN              NaN  \n",
      "1  12 Months Ended  12 Months Ended  12 Months Ended  12 Months Ended  \n",
      "2    Dec. 31, 2009    Dec. 31, 2009    Dec. 31, 2008    Dec. 31, 2008  \n",
      "3         $ 24,509              NaN         $ 19,166              NaN  \n",
      "4              NaN              NaN              NaN              NaN  \n",
      "done one\n",
      "done clicking\n",
      "     0                                                  1\n",
      "0  [1]  Includes stock-based compensation as follows: ...\n",
      "                                                   0  \\\n",
      "0                                                [1]   \n",
      "1  Statement Of Income (USD $) In Millions, excep...   \n",
      "2  Statement Of Income (USD $) In Millions, excep...   \n",
      "3                                          Net sales   \n",
      "4                                      Cost of sales   \n",
      "\n",
      "                                                   1                2  \\\n",
      "0  Includes stock-based compensation as follows: ...              NaN   \n",
      "1                                    12 Months Ended  12 Months Ended   \n",
      "2                                      Dec. 31, 2009    Dec. 31, 2009   \n",
      "3                                           $ 24,509              NaN   \n",
      "4                                              18978              NaN   \n",
      "\n",
      "                 3                4                5                6    7  \n",
      "0              NaN              NaN              NaN              NaN  NaN  \n",
      "1  12 Months Ended  12 Months Ended  12 Months Ended  12 Months Ended  NaN  \n",
      "2    Dec. 31, 2008    Dec. 31, 2008    Dec. 31, 2007    Dec. 31, 2007  NaN  \n",
      "3         $ 19,166              NaN         $ 14,835              NaN  NaN  \n",
      "4            14896              NaN            11482              NaN  NaN  \n",
      "done one\n",
      "SAVED TO CSV\n"
     ]
    }
   ],
   "source": [
    "driver = webdriver.Chrome()\n",
    "search_url = 'https://www.sec.gov/cgi-bin/browse-edgar?action=getcompany&CIK=$$$&type=10-K&dateb=&owner=exclude&count=100'\n",
    "tickers = ['AMZN']\n",
    "# tickers = [\"META\"] # working\n",
    "companies = {}\n",
    "for ticker in tickers:\n",
    "    url = search_url.replace('$$$', ticker)\n",
    "    print(url)\n",
    "    driver.get(url)\n",
    "    dfs = use_search_page(driver)\n",
    "    resultDf = merge_dfs(dfs)\n",
    "    resultDf.to_csv(ticker + \".csv\")\n",
    "\n",
    "print(\"SAVED TO CSV\")"
   ],
   "metadata": {
    "collapsed": false,
    "ExecuteTime": {
     "end_time": "2024-07-12T19:15:53.186560Z",
     "start_time": "2024-07-12T19:13:09.903607Z"
    }
   },
   "id": "3e09758760b97664",
   "execution_count": 146
  }
 ],
 "metadata": {
  "kernelspec": {
   "display_name": "Python 3 (ipykernel)",
   "language": "python",
   "name": "python3"
  },
  "language_info": {
   "codemirror_mode": {
    "name": "ipython",
    "version": 3
   },
   "file_extension": ".py",
   "mimetype": "text/x-python",
   "name": "python",
   "nbconvert_exporter": "python",
   "pygments_lexer": "ipython3",
   "version": "3.12.0"
  }
 },
 "nbformat": 4,
 "nbformat_minor": 5
}
